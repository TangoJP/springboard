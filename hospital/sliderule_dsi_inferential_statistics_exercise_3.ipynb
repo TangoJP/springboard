{
 "cells": [
  {
   "cell_type": "markdown",
   "metadata": {},
   "source": [
    "# Hospital Readmissions Data Analysis and Recommendations for Reduction\n",
    "\n",
    "### Background\n",
    "In October 2012, the US government's Center for Medicare and Medicaid Services (CMS) began reducing Medicare payments for Inpatient Prospective Payment System hospitals with excess readmissions. Excess readmissions are measured by a ratio, by dividing a hospital’s number of “predicted” 30-day readmissions for heart attack, heart failure, and pneumonia by the number that would be “expected,” based on an average hospital with similar patients. A ratio greater than 1 indicates excess readmissions.\n",
    "\n",
    "### Exercise Directions\n",
    "\n",
    "In this exercise, you will:\n",
    "+ critique a preliminary analysis of readmissions data and recommendations (provided below) for reducing the readmissions rate\n",
    "+ construct a statistically sound analysis and make recommendations of your own \n",
    "\n",
    "More instructions provided below. Include your work **in this notebook and submit to your Github account**. \n",
    "\n",
    "### Resources\n",
    "+ Data source: https://data.medicare.gov/Hospital-Compare/Hospital-Readmission-Reduction/9n3s-kdb3\n",
    "+ More information: http://www.cms.gov/Medicare/medicare-fee-for-service-payment/acuteinpatientPPS/readmissions-reduction-program.html\n",
    "+ Markdown syntax: http://nestacms.com/docs/creating-content/markdown-cheat-sheet\n",
    "****"
   ]
  },
  {
   "cell_type": "code",
   "execution_count": 1,
   "metadata": {
    "collapsed": true
   },
   "outputs": [],
   "source": [
    "%matplotlib inline\n",
    "\n",
    "import pandas as pd\n",
    "import numpy as np\n",
    "import matplotlib.pyplot as plt\n",
    "import bokeh.plotting as bkp\n",
    "from mpl_toolkits.axes_grid1 import make_axes_locatable"
   ]
  },
  {
   "cell_type": "code",
   "execution_count": 2,
   "metadata": {
    "collapsed": true
   },
   "outputs": [],
   "source": [
    "# read in readmissions data provided\n",
    "hospital_read_df = pd.read_csv('data/cms_hospital_readmissions.csv')"
   ]
  },
  {
   "cell_type": "code",
   "execution_count": 3,
   "metadata": {},
   "outputs": [
    {
     "data": {
      "text/html": [
       "<div>\n",
       "<style>\n",
       "    .dataframe thead tr:only-child th {\n",
       "        text-align: right;\n",
       "    }\n",
       "\n",
       "    .dataframe thead th {\n",
       "        text-align: left;\n",
       "    }\n",
       "\n",
       "    .dataframe tbody tr th {\n",
       "        vertical-align: top;\n",
       "    }\n",
       "</style>\n",
       "<table border=\"1\" class=\"dataframe\">\n",
       "  <thead>\n",
       "    <tr style=\"text-align: right;\">\n",
       "      <th></th>\n",
       "      <th>Hospital Name</th>\n",
       "      <th>Provider Number</th>\n",
       "      <th>State</th>\n",
       "      <th>Measure Name</th>\n",
       "      <th>Number of Discharges</th>\n",
       "      <th>Footnote</th>\n",
       "      <th>Excess Readmission Ratio</th>\n",
       "      <th>Predicted Readmission Rate</th>\n",
       "      <th>Expected Readmission Rate</th>\n",
       "      <th>Number of Readmissions</th>\n",
       "      <th>Start Date</th>\n",
       "      <th>End Date</th>\n",
       "    </tr>\n",
       "  </thead>\n",
       "  <tbody>\n",
       "    <tr>\n",
       "      <th>0</th>\n",
       "      <td>FROEDTERT MEMORIAL LUTHERAN HOSPITAL</td>\n",
       "      <td>520177</td>\n",
       "      <td>WI</td>\n",
       "      <td>READM-30-HIP-KNEE-HRRP</td>\n",
       "      <td>242</td>\n",
       "      <td>NaN</td>\n",
       "      <td>1.9095</td>\n",
       "      <td>10.8</td>\n",
       "      <td>5.6</td>\n",
       "      <td>38.0</td>\n",
       "      <td>07/01/2010</td>\n",
       "      <td>06/30/2013</td>\n",
       "    </tr>\n",
       "    <tr>\n",
       "      <th>1</th>\n",
       "      <td>PROVIDENCE HOSPITAL</td>\n",
       "      <td>90006</td>\n",
       "      <td>DC</td>\n",
       "      <td>READM-30-HIP-KNEE-HRRP</td>\n",
       "      <td>247</td>\n",
       "      <td>NaN</td>\n",
       "      <td>1.7521</td>\n",
       "      <td>9.2</td>\n",
       "      <td>5.3</td>\n",
       "      <td>33.0</td>\n",
       "      <td>07/01/2010</td>\n",
       "      <td>06/30/2013</td>\n",
       "    </tr>\n",
       "    <tr>\n",
       "      <th>2</th>\n",
       "      <td>BEAUFORT COUNTY MEMORIAL HOSPITAL</td>\n",
       "      <td>420067</td>\n",
       "      <td>SC</td>\n",
       "      <td>READM-30-HIP-KNEE-HRRP</td>\n",
       "      <td>586</td>\n",
       "      <td>NaN</td>\n",
       "      <td>1.5836</td>\n",
       "      <td>7.6</td>\n",
       "      <td>4.8</td>\n",
       "      <td>53.0</td>\n",
       "      <td>07/01/2010</td>\n",
       "      <td>06/30/2013</td>\n",
       "    </tr>\n",
       "    <tr>\n",
       "      <th>3</th>\n",
       "      <td>ADVOCATE CHRIST HOSPITAL &amp; MEDICAL CENTER</td>\n",
       "      <td>140208</td>\n",
       "      <td>IL</td>\n",
       "      <td>READM-30-HIP-KNEE-HRRP</td>\n",
       "      <td>965</td>\n",
       "      <td>NaN</td>\n",
       "      <td>1.5760</td>\n",
       "      <td>9.0</td>\n",
       "      <td>5.7</td>\n",
       "      <td>95.0</td>\n",
       "      <td>07/01/2010</td>\n",
       "      <td>06/30/2013</td>\n",
       "    </tr>\n",
       "    <tr>\n",
       "      <th>4</th>\n",
       "      <td>BRAZOSPORT REGIONAL HEALTH SYSTEM</td>\n",
       "      <td>450072</td>\n",
       "      <td>TX</td>\n",
       "      <td>READM-30-HIP-KNEE-HRRP</td>\n",
       "      <td>149</td>\n",
       "      <td>NaN</td>\n",
       "      <td>1.5308</td>\n",
       "      <td>8.2</td>\n",
       "      <td>5.4</td>\n",
       "      <td>20.0</td>\n",
       "      <td>07/01/2010</td>\n",
       "      <td>06/30/2013</td>\n",
       "    </tr>\n",
       "  </tbody>\n",
       "</table>\n",
       "</div>"
      ],
      "text/plain": [
       "                               Hospital Name  Provider Number State  \\\n",
       "0       FROEDTERT MEMORIAL LUTHERAN HOSPITAL           520177    WI   \n",
       "1                        PROVIDENCE HOSPITAL            90006    DC   \n",
       "2          BEAUFORT COUNTY MEMORIAL HOSPITAL           420067    SC   \n",
       "3  ADVOCATE CHRIST HOSPITAL & MEDICAL CENTER           140208    IL   \n",
       "4          BRAZOSPORT REGIONAL HEALTH SYSTEM           450072    TX   \n",
       "\n",
       "             Measure Name Number of Discharges  Footnote  \\\n",
       "0  READM-30-HIP-KNEE-HRRP                  242       NaN   \n",
       "1  READM-30-HIP-KNEE-HRRP                  247       NaN   \n",
       "2  READM-30-HIP-KNEE-HRRP                  586       NaN   \n",
       "3  READM-30-HIP-KNEE-HRRP                  965       NaN   \n",
       "4  READM-30-HIP-KNEE-HRRP                  149       NaN   \n",
       "\n",
       "   Excess Readmission Ratio  Predicted Readmission Rate  \\\n",
       "0                    1.9095                        10.8   \n",
       "1                    1.7521                         9.2   \n",
       "2                    1.5836                         7.6   \n",
       "3                    1.5760                         9.0   \n",
       "4                    1.5308                         8.2   \n",
       "\n",
       "   Expected Readmission Rate  Number of Readmissions  Start Date    End Date  \n",
       "0                        5.6                    38.0  07/01/2010  06/30/2013  \n",
       "1                        5.3                    33.0  07/01/2010  06/30/2013  \n",
       "2                        4.8                    53.0  07/01/2010  06/30/2013  \n",
       "3                        5.7                    95.0  07/01/2010  06/30/2013  \n",
       "4                        5.4                    20.0  07/01/2010  06/30/2013  "
      ]
     },
     "execution_count": 3,
     "metadata": {},
     "output_type": "execute_result"
    }
   ],
   "source": [
    "hospital_read_df.head()"
   ]
  },
  {
   "cell_type": "code",
   "execution_count": 4,
   "metadata": {},
   "outputs": [
    {
     "data": {
      "text/html": [
       "<div>\n",
       "<style>\n",
       "    .dataframe thead tr:only-child th {\n",
       "        text-align: right;\n",
       "    }\n",
       "\n",
       "    .dataframe thead th {\n",
       "        text-align: left;\n",
       "    }\n",
       "\n",
       "    .dataframe tbody tr th {\n",
       "        vertical-align: top;\n",
       "    }\n",
       "</style>\n",
       "<table border=\"1\" class=\"dataframe\">\n",
       "  <thead>\n",
       "    <tr style=\"text-align: right;\">\n",
       "      <th></th>\n",
       "      <th>Provider Number</th>\n",
       "      <th>Footnote</th>\n",
       "      <th>Excess Readmission Ratio</th>\n",
       "      <th>Predicted Readmission Rate</th>\n",
       "      <th>Expected Readmission Rate</th>\n",
       "      <th>Number of Readmissions</th>\n",
       "    </tr>\n",
       "  </thead>\n",
       "  <tbody>\n",
       "    <tr>\n",
       "      <th>count</th>\n",
       "      <td>16860.000000</td>\n",
       "      <td>3129.000000</td>\n",
       "      <td>13731.000000</td>\n",
       "      <td>13731.000000</td>\n",
       "      <td>13731.000000</td>\n",
       "      <td>11497.000000</td>\n",
       "    </tr>\n",
       "    <tr>\n",
       "      <th>mean</th>\n",
       "      <td>263516.943654</td>\n",
       "      <td>2.905401</td>\n",
       "      <td>1.002582</td>\n",
       "      <td>16.916532</td>\n",
       "      <td>16.866135</td>\n",
       "      <td>63.633731</td>\n",
       "    </tr>\n",
       "    <tr>\n",
       "      <th>std</th>\n",
       "      <td>160146.191702</td>\n",
       "      <td>2.074384</td>\n",
       "      <td>0.091088</td>\n",
       "      <td>6.197542</td>\n",
       "      <td>5.989652</td>\n",
       "      <td>59.540296</td>\n",
       "    </tr>\n",
       "    <tr>\n",
       "      <th>min</th>\n",
       "      <td>10001.000000</td>\n",
       "      <td>1.000000</td>\n",
       "      <td>0.549500</td>\n",
       "      <td>2.700000</td>\n",
       "      <td>2.900000</td>\n",
       "      <td>11.000000</td>\n",
       "    </tr>\n",
       "    <tr>\n",
       "      <th>25%</th>\n",
       "      <td>110181.500000</td>\n",
       "      <td>1.000000</td>\n",
       "      <td>0.949500</td>\n",
       "      <td>15.200000</td>\n",
       "      <td>15.800000</td>\n",
       "      <td>24.000000</td>\n",
       "    </tr>\n",
       "    <tr>\n",
       "      <th>50%</th>\n",
       "      <td>250157.000000</td>\n",
       "      <td>1.000000</td>\n",
       "      <td>0.997100</td>\n",
       "      <td>18.500000</td>\n",
       "      <td>18.500000</td>\n",
       "      <td>45.000000</td>\n",
       "    </tr>\n",
       "    <tr>\n",
       "      <th>75%</th>\n",
       "      <td>390138.250000</td>\n",
       "      <td>5.000000</td>\n",
       "      <td>1.052350</td>\n",
       "      <td>21.100000</td>\n",
       "      <td>21.100000</td>\n",
       "      <td>82.000000</td>\n",
       "    </tr>\n",
       "    <tr>\n",
       "      <th>max</th>\n",
       "      <td>670091.000000</td>\n",
       "      <td>7.000000</td>\n",
       "      <td>1.909500</td>\n",
       "      <td>32.800000</td>\n",
       "      <td>29.400000</td>\n",
       "      <td>879.000000</td>\n",
       "    </tr>\n",
       "  </tbody>\n",
       "</table>\n",
       "</div>"
      ],
      "text/plain": [
       "       Provider Number     Footnote  Excess Readmission Ratio  \\\n",
       "count     16860.000000  3129.000000              13731.000000   \n",
       "mean     263516.943654     2.905401                  1.002582   \n",
       "std      160146.191702     2.074384                  0.091088   \n",
       "min       10001.000000     1.000000                  0.549500   \n",
       "25%      110181.500000     1.000000                  0.949500   \n",
       "50%      250157.000000     1.000000                  0.997100   \n",
       "75%      390138.250000     5.000000                  1.052350   \n",
       "max      670091.000000     7.000000                  1.909500   \n",
       "\n",
       "       Predicted Readmission Rate  Expected Readmission Rate  \\\n",
       "count                13731.000000               13731.000000   \n",
       "mean                    16.916532                  16.866135   \n",
       "std                      6.197542                   5.989652   \n",
       "min                      2.700000                   2.900000   \n",
       "25%                     15.200000                  15.800000   \n",
       "50%                     18.500000                  18.500000   \n",
       "75%                     21.100000                  21.100000   \n",
       "max                     32.800000                  29.400000   \n",
       "\n",
       "       Number of Readmissions  \n",
       "count            11497.000000  \n",
       "mean                63.633731  \n",
       "std                 59.540296  \n",
       "min                 11.000000  \n",
       "25%                 24.000000  \n",
       "50%                 45.000000  \n",
       "75%                 82.000000  \n",
       "max                879.000000  "
      ]
     },
     "execution_count": 4,
     "metadata": {},
     "output_type": "execute_result"
    }
   ],
   "source": [
    "hospital_read_df.describe()"
   ]
  },
  {
   "cell_type": "markdown",
   "metadata": {},
   "source": [
    "****\n",
    "## Preliminary Analysis"
   ]
  },
  {
   "cell_type": "code",
   "execution_count": 5,
   "metadata": {},
   "outputs": [
    {
     "name": "stderr",
     "output_type": "stream",
     "text": [
      "/Library/Frameworks/Python.framework/Versions/3.6/lib/python3.6/site-packages/pandas/core/indexing.py:517: SettingWithCopyWarning: \n",
      "A value is trying to be set on a copy of a slice from a DataFrame.\n",
      "Try using .loc[row_indexer,col_indexer] = value instead\n",
      "\n",
      "See the caveats in the documentation: http://pandas.pydata.org/pandas-docs/stable/indexing.html#indexing-view-versus-copy\n",
      "  self.obj[item] = s\n"
     ]
    }
   ],
   "source": [
    "# deal with missing and inconvenient portions of data \n",
    "clean_hospital_read_df = hospital_read_df[hospital_read_df['Number of Discharges'] != 'Not Available']\n",
    "clean_hospital_read_df.loc[:, 'Number of Discharges'] = clean_hospital_read_df['Number of Discharges'].astype(int)\n",
    "clean_hospital_read_df = clean_hospital_read_df.sort_values('Number of Discharges')"
   ]
  },
  {
   "cell_type": "code",
   "execution_count": 6,
   "metadata": {},
   "outputs": [
    {
     "data": {
      "image/png": "[encoded data removed]",
      "text/plain": [
       "<matplotlib.figure.Figure at 0x10aae0978>"
      ]
     },
     "metadata": {},
     "output_type": "display_data"
    }
   ],
   "source": [
    "# generate a scatterplot for number of discharges vs. excess rate of readmissions\n",
    "# lists work better with matplotlib scatterplot function\n",
    "x = [a for a in clean_hospital_read_df['Number of Discharges'][81:-3]]\n",
    "y = list(clean_hospital_read_df['Excess Readmission Ratio'][81:-3])\n",
    "\n",
    "fig, ax = plt.subplots(figsize=(8,5))\n",
    "ax.scatter(x, y,alpha=0.2)\n",
    "\n",
    "ax.fill_between([0,350], 1.15, 2, facecolor='red', alpha = .15, interpolate=True)\n",
    "ax.fill_between([800,2500], .5, .95, facecolor='green', alpha = .15, interpolate=True)\n",
    "\n",
    "ax.set_xlim([0, max(x)])\n",
    "ax.set_xlabel('Number of discharges', fontsize=12)\n",
    "ax.set_ylabel('Excess rate of readmissions', fontsize=12)\n",
    "ax.set_title('Scatterplot of number of discharges vs. excess rate of readmissions', fontsize=14)\n",
    "\n",
    "ax.grid(True)\n",
    "fig.tight_layout()"
   ]
  },
  {
   "cell_type": "markdown",
   "metadata": {},
   "source": [
    "****\n",
    "\n",
    "## Preliminary Report\n",
    "\n",
    "Read the following results/report. While you are reading it, think about if the conclusions are correct, incorrect, misleading or unfounded. Think about what you would change or what additional analyses you would perform.\n",
    "\n",
    "**A. Initial observations based on the plot above**\n",
    "+ Overall, rate of readmissions is trending down with increasing number of discharges\n",
    "+ With lower number of discharges, there is a greater incidence of excess rate of readmissions (area shaded red)\n",
    "+ With higher number of discharges, there is a greater incidence of lower rates of readmissions (area shaded green) \n",
    "\n",
    "**B. Statistics**\n",
    "+ In hospitals/facilities with number of discharges < 100, mean excess readmission rate is 1.023 and 63% have excess readmission rate greater than 1 \n",
    "+ In hospitals/facilities with number of discharges > 1000, mean excess readmission rate is 0.978 and 44% have excess readmission rate greater than 1 \n",
    "\n",
    "**C. Conclusions**\n",
    "+ There is a significant correlation between hospital capacity (number of discharges) and readmission rates. \n",
    "+ Smaller hospitals/facilities may be lacking necessary resources to ensure quality care and prevent complications that lead to readmissions.\n",
    "\n",
    "**D. Regulatory policy recommendations**\n",
    "+ Hospitals/facilties with small capacity (< 300) should be required to demonstrate upgraded resource allocation for quality care to continue operation.\n",
    "+ Directives and incentives should be provided for consolidation of hospitals and facilities to have a smaller number of them with higher capacity and number of discharges."
   ]
  },
  {
   "cell_type": "markdown",
   "metadata": {},
   "source": [
    "### Exercise\n",
    "\n",
    "Include your work on the following **in this notebook and submit to your Github account**. \n",
    "\n",
    "A. Do you agree with the above analysis and recommendations? Why or why not?\n",
    "   \n",
    "B. Provide support for your arguments and your own recommendations with a statistically sound analysis:\n",
    "\n",
    "   1. Setup an appropriate hypothesis test.\n",
    "   2. Compute and report the observed significance value (or p-value).\n",
    "   3. Report statistical significance for $\\alpha$ = .01. \n",
    "   4. Discuss statistical significance and practical significance. Do they differ here? How does this change your recommendation to the client?\n",
    "   5. Look at the scatterplot above. \n",
    "      - What are the advantages and disadvantages of using this plot to convey information?\n",
    "      - Construct another plot that conveys the same information in a more direct manner.\n",
    "\n",
    "\n",
    "\n",
    "You can compose in notebook cells using Markdown: \n",
    "+ In the control panel at the top, choose Cell > Cell Type > Markdown\n",
    "+ Markdown syntax: http://nestacms.com/docs/creating-content/markdown-cheat-sheet\n",
    "</div>\n",
    "****"
   ]
  },
  {
   "cell_type": "markdown",
   "metadata": {},
   "source": [
    "# My comments on the preliminary report<br>\n",
    "A. I disagree with the preliminary report in a few regards.\n",
    "- Overall, rate of admissions appears NOT to correlate with the number of discharges\n",
    "- It is hard to conclude from the above plot alone if the \"frequency\" of excess rates of readdmissions are higher with the lower number of discharges, because there are more number of hospitals in the lower range along the x-axis (i.e. number of discharges)\n",
    "- The same thing can be said for the part of the data indicated in the shaded green. This time, the overall number of datapoints in that range of x-axis is small, and the \"frequency\" of lower rates of readmission is not obviously clear\n",
    "B. The numbers the author chose for the cut-offs for number of discharges seems arbitrary and the rationale was not clear. Also, the analysis does not include any analysis on significance of difference\n",
    "C. For above reasons, I cannot support these conclusions.\n",
    "D. Again, no conclusions can be drawn from the insufficientt analysis<br>\n",
    "\n",
    "<b>Please skip to the bottom for my analysis!</b><br><br>"
   ]
  },
  {
   "cell_type": "code",
   "execution_count": null,
   "metadata": {
    "collapsed": true
   },
   "outputs": [],
   "source": []
  },
  {
   "cell_type": "code",
   "execution_count": null,
   "metadata": {
    "collapsed": true
   },
   "outputs": [],
   "source": []
  },
  {
   "cell_type": "code",
   "execution_count": 7,
   "metadata": {
    "collapsed": true
   },
   "outputs": [],
   "source": [
    "# Your turn\n",
    "import scipy.stats as scs"
   ]
  },
  {
   "cell_type": "code",
   "execution_count": 8,
   "metadata": {
    "collapsed": true
   },
   "outputs": [],
   "source": [
    "data = clean_hospital_read_df[['Number of Discharges', 'Excess Readmission Ratio']]\n",
    "data.dropna()\n",
    "data.columns = ['discharges', 'readmission_ratio']"
   ]
  },
  {
   "cell_type": "code",
   "execution_count": 9,
   "metadata": {
    "collapsed": true
   },
   "outputs": [],
   "source": [
    "data = data[data['readmission_ratio'].notnull()]"
   ]
  },
  {
   "cell_type": "code",
   "execution_count": 10,
   "metadata": {},
   "outputs": [
    {
     "data": {
      "text/html": [
       "<div>\n",
       "<style>\n",
       "    .dataframe thead tr:only-child th {\n",
       "        text-align: right;\n",
       "    }\n",
       "\n",
       "    .dataframe thead th {\n",
       "        text-align: left;\n",
       "    }\n",
       "\n",
       "    .dataframe tbody tr th {\n",
       "        vertical-align: top;\n",
       "    }\n",
       "</style>\n",
       "<table border=\"1\" class=\"dataframe\">\n",
       "  <thead>\n",
       "    <tr style=\"text-align: right;\">\n",
       "      <th></th>\n",
       "      <th>discharges</th>\n",
       "      <th>readmission_ratio</th>\n",
       "    </tr>\n",
       "  </thead>\n",
       "  <tbody>\n",
       "    <tr>\n",
       "      <th>count</th>\n",
       "      <td>11497.000000</td>\n",
       "      <td>11497.000000</td>\n",
       "    </tr>\n",
       "    <tr>\n",
       "      <th>mean</th>\n",
       "      <td>365.466209</td>\n",
       "      <td>1.007504</td>\n",
       "    </tr>\n",
       "    <tr>\n",
       "      <th>std</th>\n",
       "      <td>308.754590</td>\n",
       "      <td>0.091964</td>\n",
       "    </tr>\n",
       "    <tr>\n",
       "      <th>min</th>\n",
       "      <td>25.000000</td>\n",
       "      <td>0.549500</td>\n",
       "    </tr>\n",
       "    <tr>\n",
       "      <th>25%</th>\n",
       "      <td>160.000000</td>\n",
       "      <td>0.952600</td>\n",
       "    </tr>\n",
       "    <tr>\n",
       "      <th>50%</th>\n",
       "      <td>282.000000</td>\n",
       "      <td>1.003500</td>\n",
       "    </tr>\n",
       "    <tr>\n",
       "      <th>75%</th>\n",
       "      <td>474.000000</td>\n",
       "      <td>1.058100</td>\n",
       "    </tr>\n",
       "    <tr>\n",
       "      <th>90%</th>\n",
       "      <td>726.400000</td>\n",
       "      <td>1.112800</td>\n",
       "    </tr>\n",
       "    <tr>\n",
       "      <th>99%</th>\n",
       "      <td>1516.080000</td>\n",
       "      <td>1.271704</td>\n",
       "    </tr>\n",
       "    <tr>\n",
       "      <th>max</th>\n",
       "      <td>6793.000000</td>\n",
       "      <td>1.909500</td>\n",
       "    </tr>\n",
       "  </tbody>\n",
       "</table>\n",
       "</div>"
      ],
      "text/plain": [
       "         discharges  readmission_ratio\n",
       "count  11497.000000       11497.000000\n",
       "mean     365.466209           1.007504\n",
       "std      308.754590           0.091964\n",
       "min       25.000000           0.549500\n",
       "25%      160.000000           0.952600\n",
       "50%      282.000000           1.003500\n",
       "75%      474.000000           1.058100\n",
       "90%      726.400000           1.112800\n",
       "99%     1516.080000           1.271704\n",
       "max     6793.000000           1.909500"
      ]
     },
     "execution_count": 10,
     "metadata": {},
     "output_type": "execute_result"
    }
   ],
   "source": [
    "data.describe(percentiles=[0.25, 0.5, 0.75, 0.9, 0.99])"
   ]
  },
  {
   "cell_type": "code",
   "execution_count": 11,
   "metadata": {},
   "outputs": [
    {
     "data": {
      "text/plain": [
       "19"
      ]
     },
     "execution_count": 11,
     "metadata": {},
     "output_type": "execute_result"
    }
   ],
   "source": [
    "# There are only 19 cases where number of discharges are above 2300\n",
    "len(data[data.discharges > 2300])"
   ]
  },
  {
   "cell_type": "markdown",
   "metadata": {},
   "source": [
    "Based on the above, I will keep on splitting the dataset at a give cutoff number, and analyze the sample below and above the cutoff are statistically different from each other. But first, I need to check if those split samples are normally distributed or not."
   ]
  },
  {
   "cell_type": "code",
   "execution_count": 12,
   "metadata": {
    "collapsed": true
   },
   "outputs": [],
   "source": [
    "# Set up lists to store results\n",
    "cutoffs = []\n",
    "counter = []\n",
    "normality = []\n",
    "both_normal = []\n",
    "\n",
    "# Initial counter and cutoff\n",
    "i = 0\n",
    "cutoff = 100\n",
    "\n",
    "# Keep on splitting the sample until 90% of the sample is in one side\n",
    "while cutoff < 2300:\n",
    "    counter.append(i)\n",
    "    cutoffs.append(cutoff)\n",
    "    \n",
    "    # Split the data into two\n",
    "    smaller = data[data['discharges'] < cutoff]\n",
    "    higher = data[data['discharges'] >= cutoff]\n",
    "    \n",
    "    # Do normality test for each\n",
    "    if scs.normaltest(smaller['readmission_ratio'])[1] >= 0.05:\n",
    "        smaller_normality = 1\n",
    "    else:\n",
    "        smaller_normality = 0\n",
    "    \n",
    "    if scs.normaltest(higher['readmission_ratio'])[1] >= 0.05:\n",
    "        higher_normality = 1\n",
    "    else:\n",
    "        higher_normality = 0\n",
    "    \n",
    "    normaltest_result = [smaller_normality, higher_normality]\n",
    "    normality.append(normaltest_result)\n",
    "    \n",
    "    # Check if both sets are normaly distributed or not\n",
    "    if (smaller_normality == 1) and (higher_normality == 1):\n",
    "        both_normal_or_not = 1\n",
    "    else:\n",
    "        both_normal_or_not = 0\n",
    "    \n",
    "    both_normal.append(both_normal_or_not)    \n",
    "    \n",
    "    i += 1\n",
    "    cutoff += 100    "
   ]
  },
  {
   "cell_type": "code",
   "execution_count": 13,
   "metadata": {},
   "outputs": [
    {
     "name": "stdout",
     "output_type": "stream",
     "text": [
      "number of cuts 22\n",
      "number of cuts with both normal 0\n"
     ]
    }
   ],
   "source": [
    "print('number of cuts %d' % len(cutoffs))\n",
    "print('number of cuts with both normal %d' % np.sum(both_normal))"
   ]
  },
  {
   "cell_type": "markdown",
   "metadata": {},
   "source": [
    "So number of the splits yielded two sets that are both normally distributed. Thus I'll emply t-test and Mann_Whiteny U test."
   ]
  },
  {
   "cell_type": "code",
   "execution_count": 40,
   "metadata": {
    "collapsed": true
   },
   "outputs": [],
   "source": [
    "# Set up lists to store results\n",
    "cutoffs = []\n",
    "counter = []\n",
    "t_pvalues = []\n",
    "t_significance = []\n",
    "smaller_means = []\n",
    "higher_means = []\n",
    "smaller_mean_1ornot_pvals = []\n",
    "higher_mean_1ornot_pvals = []\n",
    "mw_pvalues = []\n",
    "mw_significance = []\n",
    "\n",
    "# Initial counter and cutoff\n",
    "i = 0\n",
    "cutoff = 100\n",
    "\n",
    "# Keep on splitting the sample until 90% of the sample is in one side\n",
    "while cutoff < 2300:\n",
    "    counter.append(i)\n",
    "    cutoffs.append(cutoff)\n",
    "    \n",
    "    # Split the data into two\n",
    "    smaller = data[data['discharges'] < cutoff]\n",
    "    higher = data[data['discharges'] >= cutoff]\n",
    "    \n",
    "    # Do test and store p-values\n",
    "    t_pvalue = scs.ttest_ind(smaller['readmission_ratio'], higher['readmission_ratio'])[1]\n",
    "    mw_pvalue = scs.mannwhitneyu(smaller['readmission_ratio'], higher['readmission_ratio'])[1]\n",
    "    \n",
    "    t_pvalues.append(t_pvalue)\n",
    "    mw_pvalues.append(mw_pvalue)\n",
    "    \n",
    "    # Decide if significantly different based on the test (1 = significantly different)\n",
    "    t_sig = int(t_pvalue < 0.01)\n",
    "    mw_sig = int(mw_pvalue < 0.01)\n",
    "    \n",
    "    t_significance.append(t_sig)\n",
    "    mw_significance.append(mw_sig)\n",
    "    \n",
    "    # Test by t-test if the mean of the sample population is different from 1.0\n",
    "    smaller_mean_result = scs.ttest_1samp(smaller['readmission_ratio'], 1.0)[1]\n",
    "    higher_mean_result = scs.ttest_1samp(higher['readmission_ratio'], 1.0)[1]\n",
    "    \n",
    "    smaller_mean_1ornot_pvals.append(smaller_mean_result)\n",
    "    higher_mean_1ornot_pvals.append(higher_mean_result)\n",
    "    \n",
    "    smaller_means.append(np.mean(smaller['readmission_ratio']))\n",
    "    higher_means.append(np.mean(higher['readmission_ratio']))\n",
    "    \n",
    "    i += 1\n",
    "    cutoff += 100"
   ]
  },
  {
   "cell_type": "code",
   "execution_count": 55,
   "metadata": {},
   "outputs": [
    {
     "data": {
      "image/png": "[encoded data removed]",
      "text/plain": [
       "<matplotlib.figure.Figure at 0x10f6eaf98>"
      ]
     },
     "metadata": {},
     "output_type": "display_data"
    }
   ],
   "source": [
    "fig, ((ax1, ax2), (ax3, ax4), (ax5, ax6)) = plt.subplots(3, 2, figsize=(9, 13.5))\n",
    "ax1.plot(cutoffs, t_significance)\n",
    "ax1.set_title('t-test significance: 1st sample v.s. 2nd sample\\n(1 = two pops signif. diff.)')\n",
    "ax1.set_ylim([-0.05, 1.05])\n",
    "\n",
    "ax2.plot(cutoffs, mw_significance)\n",
    "ax2.set_title('MW-U-test: 1st sample v.s. 2nd sample\\n(1 = two pops signif. diff.)')\n",
    "ax2.set_ylim([-0.05, 1.05])\n",
    "\n",
    "ax3.plot(cutoffs, t_pvalues, label='p-value')\n",
    "ax3.set_title('t-test p-values: 1st sample v.s. 2nd sample')\n",
    "ax3.set_ylim([-0.05, 1.05])\n",
    "ax3.axhline(y=0.01, ls='--', c='0.5', label='p=0.01')\n",
    "ax3.axhline(y=0.05, ls=':', c='0.5', label='p=0.05')\n",
    "ax3.legend()\n",
    "\n",
    "ax4.plot(cutoffs, mw_pvalues, label='p-value')\n",
    "ax4.set_title('MW-U-test p-values: 1st sample v.s. 2nd sample')\n",
    "ax4.set_ylim([-0.05, 1.05])\n",
    "ax4.axhline(y=0.01, ls='--', c='0.5', label='p=0.01')\n",
    "ax4.axhline(y=0.05, ls=':', c='0.5', label='p=0.05')\n",
    "ax4.legend()\n",
    "\n",
    "ax5.plot(cutoffs, smaller_mean_1ornot_pvals, c='b', label='p-value')\n",
    "ax5.axhline(y=0.01, ls='--', c='0.5', label='p=0.01')\n",
    "ax5.axhline(y=0.05, ls=':', c='0.5', label='p=0.05')\n",
    "ax5.set_title('p-values for testing mean=1.0\\nthe 1st set (discharge < cutoff)')\n",
    "ax5.set_ylabel('p-value', color='b')\n",
    "ax5.set_ylim([-0.05, 1.05])\n",
    "ax5.legend()\n",
    "ax5.tick_params('y', colors='b')\n",
    "\n",
    "ax5_1 = ax5.twinx()\n",
    "ax5_1.plot(cutoffs, smaller_means, c='r', label='Mean of 1st Set')\n",
    "ax5_1.set_ylim([0.5, 1.5])\n",
    "ax5_1.set_ylabel('Readmission Ratio', color='r')\n",
    "ax5_1.tick_params('y', colors='r')\n",
    "\n",
    "ax6.plot(cutoffs, higher_mean_1ornot_pvals, c='b', label='p-value')\n",
    "ax6.axhline(y=0.01, ls='--', c='0.5', label='p=0.01')\n",
    "ax6.axhline(y=0.05, ls=':', c='0.5', label='p=0.05')\n",
    "ax6.set_title('p-values for testin mean=1.0\\nthe 2nd set (discharge >= cutoff)')\n",
    "ax6.set_ylabel('p-value', color='b')\n",
    "ax6.set_ylim([-0.05, 1.05])\n",
    "ax6.legend()\n",
    "ax6.tick_params('y', colors='b')\n",
    "ax6_1 = ax6.twinx()\n",
    "ax6_1.plot(cutoffs, higher_means, c='r', label='Mean of 2nd Set')\n",
    "ax6_1.set_ylim([0.5, 1.5])\n",
    "ax6_1.set_ylabel('Readmission Ratio', color='r')\n",
    "ax6_1.tick_params('y', colors='r')\n",
    "\n",
    "\n",
    "plt.tight_layout()"
   ]
  },
  {
   "cell_type": "markdown",
   "metadata": {},
   "source": [
    "### Exercise (copied from above)\n",
    "\n",
    "Include your work on the following **in this notebook and submit to your Github account**. \n",
    "\n",
    "A. Do you agree with the above analysis and recommendations? Why or why not?\n",
    "   \n",
    "B. Provide support for your arguments and your own recommendations with a statistically sound analysis:\n",
    "\n",
    "   1. Setup an appropriate hypothesis test.\n",
    "   2. Compute and report the observed significance value (or p-value).\n",
    "   3. Report statistical significance for $\\alpha$ = .01. \n",
    "   4. Discuss statistical significance and practical significance. Do they differ here? How does this change your recommendation to the client?\n",
    "   5. Look at the scatterplot above. \n",
    "      - What are the advantages and disadvantages of using this plot to convey information?\n",
    "      - Construct another plot that conveys the same information in a more direct manner.\n",
    "\n",
    "\n",
    "\n",
    "You can compose in notebook cells using Markdown: \n",
    "+ In the control panel at the top, choose Cell > Cell Type > Markdown\n",
    "+ Markdown syntax: http://nestacms.com/docs/creating-content/markdown-cheat-sheet\n",
    "</div>\n",
    "****"
   ]
  },
  {
   "cell_type": "markdown",
   "metadata": {
    "collapsed": true
   },
   "source": [
    "# Here is my approach<br>\n",
    "- For a given cutoff for the number of discharges, split samples into two sets: one with number of discharages smaller than the cutoff, and another with number of discharges equal to or higher\n",
    "- First, check for normality of those split samples. In my case, most split resulted in either or both of the sample being non-normally distributed. \n",
    "- Based on the normality test, t-test and Mann-Whiteny U test were employed to test if the split samples are disributed different from each other. If they're significantly different, score of 1 is reported and if not, 0. p-value for each test was recorded\n",
    "- Then, the split samples were individually tested by t-test if their means for readmission ratio are significantly different than 1.0. Their means and p-values from the test werer recorded\n",
    "- The above procedure was repeated for different cutoff points, and the results are reported in the graphs above"
   ]
  },
  {
   "cell_type": "markdown",
   "metadata": {
    "collapsed": true
   },
   "source": [
    "# Response to specific tasks above<br>\n",
    "1. See above\n",
    "2. p-values are reported on the graphs, for testing significance of different between two split sets and for testing deviation of readmission rate being 1.0\n",
    "3. Same as point2\n",
    "4. - Significance for testing the two sets are reported in the graphs above (significant difference at 0.01 level reported as 1, if not significant, 0). When the cutoff was set below ~1700 discharges, two split sets were significantly different from each other, but above that, not. \n",
    "- Significance for testing the means of the split samples can be visually inspected in the two panles at the bottom. Any point above the significance lines (0.05 or 0.01) indicate no significant deviation from readmission rate mean of 1.0. For all the cutoffs, the sample below the cutoff had a mean that were significantly different than 1.0. For the sample higher than the cutoff, significance varied. if the cutoff were set between ~100~500, or above ~1700, the mean was not significantly differnt from 1.0. In other cases, the mean was different from 1.0\n",
    "- The statistical significance discussed above is practically unhelpful here. The plot of the means of those split samples (the bottom two panels, red lines) indicate that whatever the cutoff is, the mean for both split setes virtually stay flat at 1.0, suggesting that the left side and right side of the scatter plot have similar distribution and mean of readmission ratio at ~1.0.\n",
    "5. See the graph below. The readmission ratio is tightly disributed, symmetrically around ~1.0"
   ]
  },
  {
   "cell_type": "code",
   "execution_count": 61,
   "metadata": {},
   "outputs": [
    {
     "data": {
      "text/plain": [
       "(array([   1.,    0.,    0.,    0.,    1.,    0.,    0.,    0.,    0.,\n",
       "           0.,    0.,    0.,    1.,    0.,    1.,    3.,    0.,    2.,\n",
       "           0.,    0.,    1.,    1.,    1.,    0.,    2.,    1.,    2.,\n",
       "           7.,    3.,    1.,    2.,    6.,    4.,    6.,    7.,    5.,\n",
       "          10.,   10.,    6.,    5.,   10.,   12.,   13.,    8.,   11.,\n",
       "          11.,   14.,   13.,   13.,   14.,   27.,   30.,   28.,   39.,\n",
       "          39.,   37.,   33.,   55.,   68.,   71.,   89.,   95.,   89.,\n",
       "          98.,  113.,  149.,  147.,  168.,  159.,  189.,  225.,  209.,\n",
       "         215.,  266.,  271.,  286.,  277.,  306.,  331.,  316.,  307.,\n",
       "         338.,  334.,  317.,  305.,  320.,  308.,  291.,  303.,  285.,\n",
       "         281.,  253.,  233.,  237.,  228.,  229.,  195.,  180.,  149.,\n",
       "         162.,  150.,  128.,  112.,  113.,   91.,   88.,   70.,   82.,\n",
       "          67.,   61.,   64.,   36.,   36.,   36.,   46.,   26.,   35.,\n",
       "          29.,   24.,   21.,   17.,   21.,   20.,   15.,   17.,   19.,\n",
       "           9.,   12.,   24.,   10.,    4.,    7.,    5.,    7.,    5.,\n",
       "           9.,    2.,    5.,    4.,    3.,    5.,    7.,    4.,    4.,\n",
       "           3.,    1.,    2.,    3.,    2.,    1.,    1.,    5.,    3.,\n",
       "           1.,    4.,    3.,    5.,    1.,    1.,    0.,    1.,    0.,\n",
       "           4.,    0.,    0.,    1.,    4.,    1.,    0.,    1.,    1.,\n",
       "           1.,    0.,    1.,    0.,    1.,    1.,    0.,    1.,    0.,\n",
       "           1.,    0.,    0.,    0.,    0.,    0.,    0.,    0.,    1.,\n",
       "           0.,    1.,    0.,    0.,    0.,    0.,    0.,    0.,    0.,\n",
       "           0.,    0.,    0.,    0.,    0.,    0.,    0.,    0.,    0.,\n",
       "           0.,    0.,    0.,    0.,    0.,    0.,    0.,    0.,    0.,\n",
       "           0.,    0.,    0.,    0.,    0.,    1.,    0.,    0.,    0.,\n",
       "           0.,    0.,    0.,    0.,    0.,    0.,    0.,    0.,    0.,\n",
       "           0.,    0.,    0.,    0.,    0.,    0.,    0.,    0.,    0.,\n",
       "           0.,    0.,    0.,    0.,    0.,    0.,    1.]),\n",
       " array([ 0.5495 ,  0.55494,  0.56038,  0.56582,  0.57126,  0.5767 ,\n",
       "         0.58214,  0.58758,  0.59302,  0.59846,  0.6039 ,  0.60934,\n",
       "         0.61478,  0.62022,  0.62566,  0.6311 ,  0.63654,  0.64198,\n",
       "         0.64742,  0.65286,  0.6583 ,  0.66374,  0.66918,  0.67462,\n",
       "         0.68006,  0.6855 ,  0.69094,  0.69638,  0.70182,  0.70726,\n",
       "         0.7127 ,  0.71814,  0.72358,  0.72902,  0.73446,  0.7399 ,\n",
       "         0.74534,  0.75078,  0.75622,  0.76166,  0.7671 ,  0.77254,\n",
       "         0.77798,  0.78342,  0.78886,  0.7943 ,  0.79974,  0.80518,\n",
       "         0.81062,  0.81606,  0.8215 ,  0.82694,  0.83238,  0.83782,\n",
       "         0.84326,  0.8487 ,  0.85414,  0.85958,  0.86502,  0.87046,\n",
       "         0.8759 ,  0.88134,  0.88678,  0.89222,  0.89766,  0.9031 ,\n",
       "         0.90854,  0.91398,  0.91942,  0.92486,  0.9303 ,  0.93574,\n",
       "         0.94118,  0.94662,  0.95206,  0.9575 ,  0.96294,  0.96838,\n",
       "         0.97382,  0.97926,  0.9847 ,  0.99014,  0.99558,  1.00102,\n",
       "         1.00646,  1.0119 ,  1.01734,  1.02278,  1.02822,  1.03366,\n",
       "         1.0391 ,  1.04454,  1.04998,  1.05542,  1.06086,  1.0663 ,\n",
       "         1.07174,  1.07718,  1.08262,  1.08806,  1.0935 ,  1.09894,\n",
       "         1.10438,  1.10982,  1.11526,  1.1207 ,  1.12614,  1.13158,\n",
       "         1.13702,  1.14246,  1.1479 ,  1.15334,  1.15878,  1.16422,\n",
       "         1.16966,  1.1751 ,  1.18054,  1.18598,  1.19142,  1.19686,\n",
       "         1.2023 ,  1.20774,  1.21318,  1.21862,  1.22406,  1.2295 ,\n",
       "         1.23494,  1.24038,  1.24582,  1.25126,  1.2567 ,  1.26214,\n",
       "         1.26758,  1.27302,  1.27846,  1.2839 ,  1.28934,  1.29478,\n",
       "         1.30022,  1.30566,  1.3111 ,  1.31654,  1.32198,  1.32742,\n",
       "         1.33286,  1.3383 ,  1.34374,  1.34918,  1.35462,  1.36006,\n",
       "         1.3655 ,  1.37094,  1.37638,  1.38182,  1.38726,  1.3927 ,\n",
       "         1.39814,  1.40358,  1.40902,  1.41446,  1.4199 ,  1.42534,\n",
       "         1.43078,  1.43622,  1.44166,  1.4471 ,  1.45254,  1.45798,\n",
       "         1.46342,  1.46886,  1.4743 ,  1.47974,  1.48518,  1.49062,\n",
       "         1.49606,  1.5015 ,  1.50694,  1.51238,  1.51782,  1.52326,\n",
       "         1.5287 ,  1.53414,  1.53958,  1.54502,  1.55046,  1.5559 ,\n",
       "         1.56134,  1.56678,  1.57222,  1.57766,  1.5831 ,  1.58854,\n",
       "         1.59398,  1.59942,  1.60486,  1.6103 ,  1.61574,  1.62118,\n",
       "         1.62662,  1.63206,  1.6375 ,  1.64294,  1.64838,  1.65382,\n",
       "         1.65926,  1.6647 ,  1.67014,  1.67558,  1.68102,  1.68646,\n",
       "         1.6919 ,  1.69734,  1.70278,  1.70822,  1.71366,  1.7191 ,\n",
       "         1.72454,  1.72998,  1.73542,  1.74086,  1.7463 ,  1.75174,\n",
       "         1.75718,  1.76262,  1.76806,  1.7735 ,  1.77894,  1.78438,\n",
       "         1.78982,  1.79526,  1.8007 ,  1.80614,  1.81158,  1.81702,\n",
       "         1.82246,  1.8279 ,  1.83334,  1.83878,  1.84422,  1.84966,\n",
       "         1.8551 ,  1.86054,  1.86598,  1.87142,  1.87686,  1.8823 ,\n",
       "         1.88774,  1.89318,  1.89862,  1.90406,  1.9095 ]),\n",
       " <a list of 250 Patch objects>)"
      ]
     },
     "execution_count": 61,
     "metadata": {},
     "output_type": "execute_result"
    },
    {
     "data": {
      "image/png": "[encoded data removed]",
      "text/plain": [
       "<matplotlib.figure.Figure at 0x110a347f0>"
      ]
     },
     "metadata": {},
     "output_type": "display_data"
    }
   ],
   "source": [
    "plt.hist(data['readmission_ratio'], bins=250)"
   ]
  },
  {
   "cell_type": "code",
   "execution_count": null,
   "metadata": {
    "collapsed": true
   },
   "outputs": [],
   "source": []
  },
  {
   "cell_type": "code",
   "execution_count": null,
   "metadata": {
    "collapsed": true
   },
   "outputs": [],
   "source": []
  },
  {
   "cell_type": "code",
   "execution_count": null,
   "metadata": {
    "collapsed": true
   },
   "outputs": [],
   "source": []
  },
  {
   "cell_type": "code",
   "execution_count": null,
   "metadata": {
    "collapsed": true
   },
   "outputs": [],
   "source": []
  },
  {
   "cell_type": "code",
   "execution_count": null,
   "metadata": {
    "collapsed": true
   },
   "outputs": [],
   "source": []
  },
  {
   "cell_type": "code",
   "execution_count": null,
   "metadata": {
    "collapsed": true
   },
   "outputs": [],
   "source": []
  },
  {
   "cell_type": "code",
   "execution_count": null,
   "metadata": {
    "collapsed": true
   },
   "outputs": [],
   "source": []
  },
  {
   "cell_type": "code",
   "execution_count": null,
   "metadata": {
    "collapsed": true
   },
   "outputs": [],
   "source": []
  }
 ],
 "metadata": {
  "anaconda-cloud": {},
  "kernelspec": {
   "display_name": "Python 3",
   "language": "python",
   "name": "python3"
  },
  "language_info": {
   "codemirror_mode": {
    "name": "ipython",
    "version": 3
   },
   "file_extension": ".py",
   "mimetype": "text/x-python",
   "name": "python",
   "nbconvert_exporter": "python",
   "pygments_lexer": "ipython3",
   "version": "3.6.1"
  }
 },
 "nbformat": 4,
 "nbformat_minor": 1
}
