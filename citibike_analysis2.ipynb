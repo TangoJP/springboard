{
 "cells": [
  {
   "cell_type": "markdown",
   "metadata": {},
   "source": [
    "# Things covered in this notebook\n",
    "\n",
    "- Importing data tables into pandas\n",
    "- Examine aggregate hourly, daily, and monthly usage\n",
    "- Examine usage for each day of the week\n",
    "- Examine the difference between subscribers and non-subscribers\n",
    "- Examine distribution of trip duration\n",
    "- Examine usage at two different locations\n",
    "- Examine variation in usage among different locations"
   ]
  },
  {
   "cell_type": "code",
   "execution_count": 1,
   "metadata": {
    "collapsed": true
   },
   "outputs": [],
   "source": [
    "import pandas as pd\n",
    "import numpy as np\n",
    "import matplotlib.pyplot as plt\n",
    "import seaborn as sns\n",
    "%matplotlib inline"
   ]
  },
  {
   "cell_type": "code",
   "execution_count": 2,
   "metadata": {
    "collapsed": true
   },
   "outputs": [],
   "source": [
    "data1 = pd.DataFrame.from_csv('./data/citibike_201604_201609.csv')     # data for April 2016 - September 2016\n",
    "data2 = pd.DataFrame.from_csv('./data/citibike_201610_201703.csv')     # data for Ocotber 2016-March 2017"
   ]
  },
  {
   "cell_type": "code",
   "execution_count": 3,
   "metadata": {},
   "outputs": [
    {
     "data": {
      "text/html": [
       "<div>\n",
       "<style>\n",
       "    .dataframe thead tr:only-child th {\n",
       "        text-align: right;\n",
       "    }\n",
       "\n",
       "    .dataframe thead th {\n",
       "        text-align: left;\n",
       "    }\n",
       "\n",
       "    .dataframe tbody tr th {\n",
       "        vertical-align: top;\n",
       "    }\n",
       "</style>\n",
       "<table border=\"1\" class=\"dataframe\">\n",
       "  <thead>\n",
       "    <tr style=\"text-align: right;\">\n",
       "      <th></th>\n",
       "      <th>Trip Duration</th>\n",
       "      <th>Start Time</th>\n",
       "      <th>Stop Time</th>\n",
       "      <th>Start Station ID</th>\n",
       "      <th>Start Station Name</th>\n",
       "      <th>Start Station Latitude</th>\n",
       "      <th>Start Station Longitude</th>\n",
       "      <th>End Station ID</th>\n",
       "      <th>End Station Name</th>\n",
       "      <th>End Station Latitude</th>\n",
       "      <th>...</th>\n",
       "      <th>start_month</th>\n",
       "      <th>start_day</th>\n",
       "      <th>start_hour</th>\n",
       "      <th>start_dayofweek</th>\n",
       "      <th>stop Time</th>\n",
       "      <th>stop_year</th>\n",
       "      <th>stop_month</th>\n",
       "      <th>stop_day</th>\n",
       "      <th>stop_hour</th>\n",
       "      <th>stop_dayofweek</th>\n",
       "    </tr>\n",
       "  </thead>\n",
       "  <tbody>\n",
       "    <tr>\n",
       "      <th>0</th>\n",
       "      <td>496</td>\n",
       "      <td>2016-04-01 00:00:26</td>\n",
       "      <td>4/1/2016 00:08:42</td>\n",
       "      <td>254</td>\n",
       "      <td>W 11 St &amp; 6 Ave</td>\n",
       "      <td>40.735324</td>\n",
       "      <td>-73.998004</td>\n",
       "      <td>236</td>\n",
       "      <td>St Marks Pl &amp; 2 Ave</td>\n",
       "      <td>40.728419</td>\n",
       "      <td>...</td>\n",
       "      <td>4</td>\n",
       "      <td>1</td>\n",
       "      <td>0</td>\n",
       "      <td>4</td>\n",
       "      <td>2016-04-01 00:08:42</td>\n",
       "      <td>2016</td>\n",
       "      <td>4</td>\n",
       "      <td>1</td>\n",
       "      <td>0</td>\n",
       "      <td>4</td>\n",
       "    </tr>\n",
       "    <tr>\n",
       "      <th>1</th>\n",
       "      <td>104</td>\n",
       "      <td>2016-04-01 00:00:27</td>\n",
       "      <td>4/1/2016 00:02:12</td>\n",
       "      <td>311</td>\n",
       "      <td>Norfolk St &amp; Broome St</td>\n",
       "      <td>40.717227</td>\n",
       "      <td>-73.988021</td>\n",
       "      <td>350</td>\n",
       "      <td>Clinton St &amp; Grand St</td>\n",
       "      <td>40.715595</td>\n",
       "      <td>...</td>\n",
       "      <td>4</td>\n",
       "      <td>1</td>\n",
       "      <td>0</td>\n",
       "      <td>4</td>\n",
       "      <td>2016-04-01 00:02:12</td>\n",
       "      <td>2016</td>\n",
       "      <td>4</td>\n",
       "      <td>1</td>\n",
       "      <td>0</td>\n",
       "      <td>4</td>\n",
       "    </tr>\n",
       "    <tr>\n",
       "      <th>2</th>\n",
       "      <td>128</td>\n",
       "      <td>2016-04-01 00:00:30</td>\n",
       "      <td>4/1/2016 00:02:38</td>\n",
       "      <td>3064</td>\n",
       "      <td>Myrtle Ave &amp; Lewis Ave</td>\n",
       "      <td>40.696820</td>\n",
       "      <td>-73.937569</td>\n",
       "      <td>3059</td>\n",
       "      <td>Pulaski St &amp; Marcus Garvey Blvd</td>\n",
       "      <td>40.693398</td>\n",
       "      <td>...</td>\n",
       "      <td>4</td>\n",
       "      <td>1</td>\n",
       "      <td>0</td>\n",
       "      <td>4</td>\n",
       "      <td>2016-04-01 00:02:38</td>\n",
       "      <td>2016</td>\n",
       "      <td>4</td>\n",
       "      <td>1</td>\n",
       "      <td>0</td>\n",
       "      <td>4</td>\n",
       "    </tr>\n",
       "  </tbody>\n",
       "</table>\n",
       "<p>3 rows × 26 columns</p>\n",
       "</div>"
      ],
      "text/plain": [
       "   Trip Duration           Start Time          Stop Time  Start Station ID  \\\n",
       "0            496  2016-04-01 00:00:26  4/1/2016 00:08:42               254   \n",
       "1            104  2016-04-01 00:00:27  4/1/2016 00:02:12               311   \n",
       "2            128  2016-04-01 00:00:30  4/1/2016 00:02:38              3064   \n",
       "\n",
       "       Start Station Name  Start Station Latitude  Start Station Longitude  \\\n",
       "0         W 11 St & 6 Ave               40.735324               -73.998004   \n",
       "1  Norfolk St & Broome St               40.717227               -73.988021   \n",
       "2  Myrtle Ave & Lewis Ave               40.696820               -73.937569   \n",
       "\n",
       "   End Station ID                 End Station Name  End Station Latitude  \\\n",
       "0             236              St Marks Pl & 2 Ave             40.728419   \n",
       "1             350            Clinton St & Grand St             40.715595   \n",
       "2            3059  Pulaski St & Marcus Garvey Blvd             40.693398   \n",
       "\n",
       "        ...        start_month  start_day start_hour  start_dayofweek  \\\n",
       "0       ...                  4          1          0                4   \n",
       "1       ...                  4          1          0                4   \n",
       "2       ...                  4          1          0                4   \n",
       "\n",
       "             stop Time  stop_year  stop_month  stop_day  stop_hour  \\\n",
       "0  2016-04-01 00:08:42       2016           4         1          0   \n",
       "1  2016-04-01 00:02:12       2016           4         1          0   \n",
       "2  2016-04-01 00:02:38       2016           4         1          0   \n",
       "\n",
       "   stop_dayofweek  \n",
       "0               4  \n",
       "1               4  \n",
       "2               4  \n",
       "\n",
       "[3 rows x 26 columns]"
      ]
     },
     "execution_count": 3,
     "metadata": {},
     "output_type": "execute_result"
    }
   ],
   "source": [
    "data1.head(3)"
   ]
  },
  {
   "cell_type": "code",
   "execution_count": 4,
   "metadata": {},
   "outputs": [
    {
     "data": {
      "text/html": [
       "<div>\n",
       "<style>\n",
       "    .dataframe thead tr:only-child th {\n",
       "        text-align: right;\n",
       "    }\n",
       "\n",
       "    .dataframe thead th {\n",
       "        text-align: left;\n",
       "    }\n",
       "\n",
       "    .dataframe tbody tr th {\n",
       "        vertical-align: top;\n",
       "    }\n",
       "</style>\n",
       "<table border=\"1\" class=\"dataframe\">\n",
       "  <thead>\n",
       "    <tr style=\"text-align: right;\">\n",
       "      <th></th>\n",
       "      <th>Trip Duration</th>\n",
       "      <th>Start Time</th>\n",
       "      <th>Stop Time</th>\n",
       "      <th>Start Station ID</th>\n",
       "      <th>Start Station Name</th>\n",
       "      <th>Start Station Latitude</th>\n",
       "      <th>Start Station Longitude</th>\n",
       "      <th>End Station ID</th>\n",
       "      <th>End Station Name</th>\n",
       "      <th>End Station Latitude</th>\n",
       "      <th>...</th>\n",
       "      <th>start_month</th>\n",
       "      <th>start_day</th>\n",
       "      <th>start_hour</th>\n",
       "      <th>start_dayofweek</th>\n",
       "      <th>stop Time</th>\n",
       "      <th>stop_year</th>\n",
       "      <th>stop_month</th>\n",
       "      <th>stop_day</th>\n",
       "      <th>stop_hour</th>\n",
       "      <th>stop_dayofweek</th>\n",
       "    </tr>\n",
       "  </thead>\n",
       "  <tbody>\n",
       "    <tr>\n",
       "      <th>0</th>\n",
       "      <td>328</td>\n",
       "      <td>2016-10-01 00:00:07</td>\n",
       "      <td>2016-10-01 00:05:35</td>\n",
       "      <td>471</td>\n",
       "      <td>Grand St &amp; Havemeyer St</td>\n",
       "      <td>40.712868</td>\n",
       "      <td>-73.956981</td>\n",
       "      <td>3077</td>\n",
       "      <td>Stagg St &amp; Union Ave</td>\n",
       "      <td>40.708771</td>\n",
       "      <td>...</td>\n",
       "      <td>10</td>\n",
       "      <td>1</td>\n",
       "      <td>0</td>\n",
       "      <td>5</td>\n",
       "      <td>2016-10-01 00:05:35</td>\n",
       "      <td>2016</td>\n",
       "      <td>10</td>\n",
       "      <td>1</td>\n",
       "      <td>0</td>\n",
       "      <td>5</td>\n",
       "    </tr>\n",
       "    <tr>\n",
       "      <th>1</th>\n",
       "      <td>398</td>\n",
       "      <td>2016-10-01 00:00:11</td>\n",
       "      <td>2016-10-01 00:06:49</td>\n",
       "      <td>3147</td>\n",
       "      <td>E 85 St &amp; 3 Ave</td>\n",
       "      <td>40.778012</td>\n",
       "      <td>-73.954071</td>\n",
       "      <td>3140</td>\n",
       "      <td>1 Ave &amp; E 78 St</td>\n",
       "      <td>40.771404</td>\n",
       "      <td>...</td>\n",
       "      <td>10</td>\n",
       "      <td>1</td>\n",
       "      <td>0</td>\n",
       "      <td>5</td>\n",
       "      <td>2016-10-01 00:06:49</td>\n",
       "      <td>2016</td>\n",
       "      <td>10</td>\n",
       "      <td>1</td>\n",
       "      <td>0</td>\n",
       "      <td>5</td>\n",
       "    </tr>\n",
       "    <tr>\n",
       "      <th>2</th>\n",
       "      <td>430</td>\n",
       "      <td>2016-10-01 00:00:14</td>\n",
       "      <td>2016-10-01 00:07:25</td>\n",
       "      <td>345</td>\n",
       "      <td>W 13 St &amp; 6 Ave</td>\n",
       "      <td>40.736494</td>\n",
       "      <td>-73.997044</td>\n",
       "      <td>470</td>\n",
       "      <td>W 20 St &amp; 8 Ave</td>\n",
       "      <td>40.743453</td>\n",
       "      <td>...</td>\n",
       "      <td>10</td>\n",
       "      <td>1</td>\n",
       "      <td>0</td>\n",
       "      <td>5</td>\n",
       "      <td>2016-10-01 00:07:25</td>\n",
       "      <td>2016</td>\n",
       "      <td>10</td>\n",
       "      <td>1</td>\n",
       "      <td>0</td>\n",
       "      <td>5</td>\n",
       "    </tr>\n",
       "  </tbody>\n",
       "</table>\n",
       "<p>3 rows × 26 columns</p>\n",
       "</div>"
      ],
      "text/plain": [
       "   Trip Duration           Start Time            Stop Time  Start Station ID  \\\n",
       "0            328  2016-10-01 00:00:07  2016-10-01 00:05:35               471   \n",
       "1            398  2016-10-01 00:00:11  2016-10-01 00:06:49              3147   \n",
       "2            430  2016-10-01 00:00:14  2016-10-01 00:07:25               345   \n",
       "\n",
       "        Start Station Name  Start Station Latitude  Start Station Longitude  \\\n",
       "0  Grand St & Havemeyer St               40.712868               -73.956981   \n",
       "1          E 85 St & 3 Ave               40.778012               -73.954071   \n",
       "2          W 13 St & 6 Ave               40.736494               -73.997044   \n",
       "\n",
       "   End Station ID      End Station Name  End Station Latitude       ...        \\\n",
       "0            3077  Stagg St & Union Ave             40.708771       ...         \n",
       "1            3140       1 Ave & E 78 St             40.771404       ...         \n",
       "2             470       W 20 St & 8 Ave             40.743453       ...         \n",
       "\n",
       "   start_month  start_day start_hour  start_dayofweek            stop Time  \\\n",
       "0           10          1          0                5  2016-10-01 00:05:35   \n",
       "1           10          1          0                5  2016-10-01 00:06:49   \n",
       "2           10          1          0                5  2016-10-01 00:07:25   \n",
       "\n",
       "   stop_year  stop_month  stop_day  stop_hour  stop_dayofweek  \n",
       "0       2016          10         1          0               5  \n",
       "1       2016          10         1          0               5  \n",
       "2       2016          10         1          0               5  \n",
       "\n",
       "[3 rows x 26 columns]"
      ]
     },
     "execution_count": 4,
     "metadata": {},
     "output_type": "execute_result"
    }
   ],
   "source": [
    "data2.head(3)"
   ]
  },
  {
   "cell_type": "markdown",
   "metadata": {},
   "source": [
    "# Looking into the total usage of Citibikes over time (hourly, daily, and monthly)"
   ]
  },
  {
   "cell_type": "code",
   "execution_count": 5,
   "metadata": {},
   "outputs": [
    {
     "data": {
      "text/plain": [
       "<matplotlib.text.Text at 0x1e69fcb38>"
      ]
     },
     "execution_count": 5,
     "metadata": {},
     "output_type": "execute_result"
    },
    {
     "data": {
      "image/png": "[encoded data removed]",
      "text/plain": [
       "<matplotlib.figure.Figure at 0x1030f7c50>"
      ]
     },
     "metadata": {},
     "output_type": "display_data"
    }
   ],
   "source": [
    "# Look at the distribution of usage by hour and by User type\n",
    "usage_by_hour_usertype1 = data1.groupby(['start_hour','User Type']).size().unstack('User Type')\n",
    "usage_by_hour_usertype2 = data2.groupby(['start_hour','User Type']).size().unstack('User Type')\n",
    "ubyhour = pd.concat([usage_by_hour_usertype1, usage_by_hour_usertype2])\n",
    "fig, (ax1, ax2) = plt.subplots(1, 2, figsize=(12,4), sharey=True)\n",
    "ax1.bar(ubyhour.index, ubyhour['Customer'])\n",
    "ax2.bar(ubyhour.index, ubyhour['Subscriber'])\n",
    "ax1.set_title('Non-subscribers')\n",
    "ax2.set_title('Subscribers')\n",
    "ax1.set_ylabel('Total # of Bike Pick Ups')\n",
    "ax1.set_xlabel('Hour of the Day')\n",
    "ax2.set_xlabel('Hour of the Day')"
   ]
  },
  {
   "cell_type": "code",
   "execution_count": 6,
   "metadata": {},
   "outputs": [
    {
     "data": {
      "text/plain": [
       "<matplotlib.axes._subplots.AxesSubplot at 0x16e376208>"
      ]
     },
     "execution_count": 6,
     "metadata": {},
     "output_type": "execute_result"
    },
    {
     "data": {
      "image/png": "[encoded data removed]",
      "text/plain": [
       "<matplotlib.figure.Figure at 0x183cbe320>"
      ]
     },
     "metadata": {},
     "output_type": "display_data"
    }
   ],
   "source": [
    "# Daily flucturations in usage\n",
    "daily_usage1 = data1.groupby(['start_year', 'start_month', 'start_day', 'User Type']).size().unstack('User Type')\n",
    "daily_usage2 = data2.groupby(['start_year', 'start_month', 'start_day', 'User Type']).size().unstack('User Type')\n",
    "du = pd.concat([daily_usage1, daily_usage2])\n",
    "du.plot(kind='bar', figsize=(18, 6), title='Daily Usage: April 2016 to March 2017')"
   ]
  },
  {
   "cell_type": "code",
   "execution_count": 7,
   "metadata": {},
   "outputs": [
    {
     "data": {
      "text/plain": [
       "<matplotlib.axes._subplots.AxesSubplot at 0x1e77b1518>"
      ]
     },
     "execution_count": 7,
     "metadata": {},
     "output_type": "execute_result"
    },
    {
     "data": {
      "image/png": "[encoded data removed]",
      "text/plain": [
       "<matplotlib.figure.Figure at 0x17793ef98>"
      ]
     },
     "metadata": {},
     "output_type": "display_data"
    }
   ],
   "source": [
    "# Aggregate the daily usage plot by month\n",
    "monthly_usage1 = data1.groupby(['start_year', 'start_month', 'User Type']).size().unstack('User Type')\n",
    "monthly_usage2 = data2.groupby(['start_year', 'start_month', 'User Type']).size().unstack('User Type')\n",
    "mu = pd.concat([monthly_usage1, monthly_usage2])\n",
    "mu.plot(kind='bar', title='Total # pickups by Month')"
   ]
  },
  {
   "cell_type": "markdown",
   "metadata": {},
   "source": [
    "# Examining the usage by the day of the week"
   ]
  },
  {
   "cell_type": "code",
   "execution_count": 8,
   "metadata": {
    "collapsed": true
   },
   "outputs": [],
   "source": [
    "# Usage distribution by the day of the week\n",
    "\n",
    "# data for non-subscribers\n",
    "z1c = data1[data1['User Type'] == 'Customer'].groupby(['start_year', 'start_month', 'start_day', 'start_dayofweek', 'User Type']).size().unstack('start_dayofweek')\n",
    "z2c = data2[data2['User Type'] == 'Customer'].groupby(['start_year', 'start_month', 'start_day', 'start_dayofweek', 'User Type']).size().unstack('start_dayofweek')\n",
    "zc = pd.concat([z1c, z2c])\n",
    "zc.columns = ['Mon', 'Tue', 'Wed', 'Thu', 'Fri', 'Sat', 'Sun']\n",
    "\n",
    "# data for subscribers\n",
    "z1s = data1[data1['User Type'] == 'Subscriber'].groupby(['start_year', 'start_month', 'start_day', 'start_dayofweek', 'User Type']).size().unstack('start_dayofweek')\n",
    "z2s = data2[data2['User Type'] == 'Subscriber'].groupby(['start_year', 'start_month', 'start_day', 'start_dayofweek', 'User Type']).size().unstack('start_dayofweek')\n",
    "zs = pd.concat([z1s, z2s])\n",
    "zs.columns = ['Mon', 'Tue', 'Wed', 'Thu', 'Fri', 'Sat', 'Sun']"
   ]
  },
  {
   "cell_type": "code",
   "execution_count": 9,
   "metadata": {},
   "outputs": [
    {
     "data": {
      "text/plain": [
       "<matplotlib.axes._subplots.AxesSubplot at 0x16880dda0>"
      ]
     },
     "execution_count": 9,
     "metadata": {},
     "output_type": "execute_result"
    },
    {
     "data": {
      "image/png": "[encoded data removed]",
      "text/plain": [
       "<matplotlib.figure.Figure at 0x1dabad588>"
      ]
     },
     "metadata": {},
     "output_type": "display_data"
    }
   ],
   "source": [
    "# Box plot the distribution for non-subscribers\n",
    "zc.plot(kind='box',  title='Usage Distribution By Day : Non-Subscribers')"
   ]
  },
  {
   "cell_type": "code",
   "execution_count": 10,
   "metadata": {},
   "outputs": [
    {
     "data": {
      "text/html": [
       "<div>\n",
       "<style>\n",
       "    .dataframe thead tr:only-child th {\n",
       "        text-align: right;\n",
       "    }\n",
       "\n",
       "    .dataframe thead th {\n",
       "        text-align: left;\n",
       "    }\n",
       "\n",
       "    .dataframe tbody tr th {\n",
       "        vertical-align: top;\n",
       "    }\n",
       "</style>\n",
       "<table border=\"1\" class=\"dataframe\">\n",
       "  <thead>\n",
       "    <tr style=\"text-align: right;\">\n",
       "      <th></th>\n",
       "      <th>Mon</th>\n",
       "      <th>Tue</th>\n",
       "      <th>Wed</th>\n",
       "      <th>Thu</th>\n",
       "      <th>Fri</th>\n",
       "      <th>Sat</th>\n",
       "      <th>Sun</th>\n",
       "    </tr>\n",
       "  </thead>\n",
       "  <tbody>\n",
       "    <tr>\n",
       "      <th>count</th>\n",
       "      <td>52.0</td>\n",
       "      <td>51.0</td>\n",
       "      <td>51.0</td>\n",
       "      <td>50.0</td>\n",
       "      <td>53.0</td>\n",
       "      <td>52.0</td>\n",
       "      <td>52.0</td>\n",
       "    </tr>\n",
       "    <tr>\n",
       "      <th>mean</th>\n",
       "      <td>3512.0</td>\n",
       "      <td>2684.0</td>\n",
       "      <td>2933.0</td>\n",
       "      <td>2953.0</td>\n",
       "      <td>3312.0</td>\n",
       "      <td>6487.0</td>\n",
       "      <td>6223.0</td>\n",
       "    </tr>\n",
       "    <tr>\n",
       "      <th>std</th>\n",
       "      <td>2922.0</td>\n",
       "      <td>1982.0</td>\n",
       "      <td>1860.0</td>\n",
       "      <td>1865.0</td>\n",
       "      <td>2478.0</td>\n",
       "      <td>4670.0</td>\n",
       "      <td>4799.0</td>\n",
       "    </tr>\n",
       "    <tr>\n",
       "      <th>min</th>\n",
       "      <td>59.0</td>\n",
       "      <td>66.0</td>\n",
       "      <td>238.0</td>\n",
       "      <td>191.0</td>\n",
       "      <td>16.0</td>\n",
       "      <td>64.0</td>\n",
       "      <td>54.0</td>\n",
       "    </tr>\n",
       "    <tr>\n",
       "      <th>25%</th>\n",
       "      <td>888.0</td>\n",
       "      <td>748.0</td>\n",
       "      <td>1149.0</td>\n",
       "      <td>1015.0</td>\n",
       "      <td>1052.0</td>\n",
       "      <td>2014.0</td>\n",
       "      <td>1423.0</td>\n",
       "    </tr>\n",
       "    <tr>\n",
       "      <th>50%</th>\n",
       "      <td>3754.0</td>\n",
       "      <td>2761.0</td>\n",
       "      <td>3320.0</td>\n",
       "      <td>3025.0</td>\n",
       "      <td>3130.0</td>\n",
       "      <td>6217.0</td>\n",
       "      <td>6010.0</td>\n",
       "    </tr>\n",
       "    <tr>\n",
       "      <th>75%</th>\n",
       "      <td>5293.0</td>\n",
       "      <td>4600.0</td>\n",
       "      <td>4566.0</td>\n",
       "      <td>4418.0</td>\n",
       "      <td>5104.0</td>\n",
       "      <td>10078.0</td>\n",
       "      <td>10085.0</td>\n",
       "    </tr>\n",
       "    <tr>\n",
       "      <th>95%</th>\n",
       "      <td>6866.0</td>\n",
       "      <td>5720.0</td>\n",
       "      <td>5426.0</td>\n",
       "      <td>5707.0</td>\n",
       "      <td>6935.0</td>\n",
       "      <td>14123.0</td>\n",
       "      <td>13338.0</td>\n",
       "    </tr>\n",
       "    <tr>\n",
       "      <th>max</th>\n",
       "      <td>13847.0</td>\n",
       "      <td>6065.0</td>\n",
       "      <td>6295.0</td>\n",
       "      <td>6335.0</td>\n",
       "      <td>9741.0</td>\n",
       "      <td>15510.0</td>\n",
       "      <td>17916.0</td>\n",
       "    </tr>\n",
       "  </tbody>\n",
       "</table>\n",
       "</div>"
      ],
      "text/plain": [
       "           Mon     Tue     Wed     Thu     Fri      Sat      Sun\n",
       "count     52.0    51.0    51.0    50.0    53.0     52.0     52.0\n",
       "mean    3512.0  2684.0  2933.0  2953.0  3312.0   6487.0   6223.0\n",
       "std     2922.0  1982.0  1860.0  1865.0  2478.0   4670.0   4799.0\n",
       "min       59.0    66.0   238.0   191.0    16.0     64.0     54.0\n",
       "25%      888.0   748.0  1149.0  1015.0  1052.0   2014.0   1423.0\n",
       "50%     3754.0  2761.0  3320.0  3025.0  3130.0   6217.0   6010.0\n",
       "75%     5293.0  4600.0  4566.0  4418.0  5104.0  10078.0  10085.0\n",
       "95%     6866.0  5720.0  5426.0  5707.0  6935.0  14123.0  13338.0\n",
       "max    13847.0  6065.0  6295.0  6335.0  9741.0  15510.0  17916.0"
      ]
     },
     "execution_count": 10,
     "metadata": {},
     "output_type": "execute_result"
    }
   ],
   "source": [
    "# Stat info for the distribution for non-subscribers\n",
    "zc.describe(percentiles=[.25, .5, .75, .95]).round()"
   ]
  },
  {
   "cell_type": "code",
   "execution_count": 11,
   "metadata": {},
   "outputs": [
    {
     "data": {
      "text/plain": [
       "<matplotlib.axes._subplots.AxesSubplot at 0x1d708f320>"
      ]
     },
     "execution_count": 11,
     "metadata": {},
     "output_type": "execute_result"
    },
    {
     "data": {
      "image/png": "[encoded data removed]",
      "text/plain": [
       "<matplotlib.figure.Figure at 0x15f5ec438>"
      ]
     },
     "metadata": {},
     "output_type": "display_data"
    }
   ],
   "source": [
    "# Box plot the distribution for subscribers\n",
    "zs.plot(kind='box',  title='Usage Distribution By Day : Subscribers')"
   ]
  },
  {
   "cell_type": "code",
   "execution_count": 12,
   "metadata": {},
   "outputs": [
    {
     "data": {
      "text/html": [
       "<div>\n",
       "<style>\n",
       "    .dataframe thead tr:only-child th {\n",
       "        text-align: right;\n",
       "    }\n",
       "\n",
       "    .dataframe thead th {\n",
       "        text-align: left;\n",
       "    }\n",
       "\n",
       "    .dataframe tbody tr th {\n",
       "        vertical-align: top;\n",
       "    }\n",
       "</style>\n",
       "<table border=\"1\" class=\"dataframe\">\n",
       "  <thead>\n",
       "    <tr style=\"text-align: right;\">\n",
       "      <th></th>\n",
       "      <th>Mon</th>\n",
       "      <th>Tue</th>\n",
       "      <th>Wed</th>\n",
       "      <th>Thu</th>\n",
       "      <th>Fri</th>\n",
       "      <th>Sat</th>\n",
       "      <th>Sun</th>\n",
       "    </tr>\n",
       "  </thead>\n",
       "  <tbody>\n",
       "    <tr>\n",
       "      <th>count</th>\n",
       "      <td>52.0</td>\n",
       "      <td>51.0</td>\n",
       "      <td>51.0</td>\n",
       "      <td>50.0</td>\n",
       "      <td>53.0</td>\n",
       "      <td>52.0</td>\n",
       "      <td>52.0</td>\n",
       "    </tr>\n",
       "    <tr>\n",
       "      <th>mean</th>\n",
       "      <td>35823.0</td>\n",
       "      <td>38968.0</td>\n",
       "      <td>43170.0</td>\n",
       "      <td>41902.0</td>\n",
       "      <td>35902.0</td>\n",
       "      <td>25182.0</td>\n",
       "      <td>23792.0</td>\n",
       "    </tr>\n",
       "    <tr>\n",
       "      <th>std</th>\n",
       "      <td>12070.0</td>\n",
       "      <td>13783.0</td>\n",
       "      <td>10393.0</td>\n",
       "      <td>11798.0</td>\n",
       "      <td>13228.0</td>\n",
       "      <td>9510.0</td>\n",
       "      <td>8900.0</td>\n",
       "    </tr>\n",
       "    <tr>\n",
       "      <th>min</th>\n",
       "      <td>8351.0</td>\n",
       "      <td>13084.0</td>\n",
       "      <td>21329.0</td>\n",
       "      <td>10236.0</td>\n",
       "      <td>1971.0</td>\n",
       "      <td>3934.0</td>\n",
       "      <td>5711.0</td>\n",
       "    </tr>\n",
       "    <tr>\n",
       "      <th>25%</th>\n",
       "      <td>27317.0</td>\n",
       "      <td>26150.0</td>\n",
       "      <td>35554.0</td>\n",
       "      <td>34763.0</td>\n",
       "      <td>28979.0</td>\n",
       "      <td>20016.0</td>\n",
       "      <td>18742.0</td>\n",
       "    </tr>\n",
       "    <tr>\n",
       "      <th>50%</th>\n",
       "      <td>35720.0</td>\n",
       "      <td>40197.0</td>\n",
       "      <td>41408.0</td>\n",
       "      <td>43297.0</td>\n",
       "      <td>36528.0</td>\n",
       "      <td>26859.0</td>\n",
       "      <td>23864.0</td>\n",
       "    </tr>\n",
       "    <tr>\n",
       "      <th>75%</th>\n",
       "      <td>45871.0</td>\n",
       "      <td>50668.0</td>\n",
       "      <td>51416.0</td>\n",
       "      <td>50139.0</td>\n",
       "      <td>45300.0</td>\n",
       "      <td>31640.0</td>\n",
       "      <td>30487.0</td>\n",
       "    </tr>\n",
       "    <tr>\n",
       "      <th>95%</th>\n",
       "      <td>52740.0</td>\n",
       "      <td>58185.0</td>\n",
       "      <td>58897.0</td>\n",
       "      <td>60104.0</td>\n",
       "      <td>56070.0</td>\n",
       "      <td>38779.0</td>\n",
       "      <td>38906.0</td>\n",
       "    </tr>\n",
       "    <tr>\n",
       "      <th>max</th>\n",
       "      <td>56551.0</td>\n",
       "      <td>61806.0</td>\n",
       "      <td>62733.0</td>\n",
       "      <td>62081.0</td>\n",
       "      <td>58814.0</td>\n",
       "      <td>44610.0</td>\n",
       "      <td>41135.0</td>\n",
       "    </tr>\n",
       "  </tbody>\n",
       "</table>\n",
       "</div>"
      ],
      "text/plain": [
       "           Mon      Tue      Wed      Thu      Fri      Sat      Sun\n",
       "count     52.0     51.0     51.0     50.0     53.0     52.0     52.0\n",
       "mean   35823.0  38968.0  43170.0  41902.0  35902.0  25182.0  23792.0\n",
       "std    12070.0  13783.0  10393.0  11798.0  13228.0   9510.0   8900.0\n",
       "min     8351.0  13084.0  21329.0  10236.0   1971.0   3934.0   5711.0\n",
       "25%    27317.0  26150.0  35554.0  34763.0  28979.0  20016.0  18742.0\n",
       "50%    35720.0  40197.0  41408.0  43297.0  36528.0  26859.0  23864.0\n",
       "75%    45871.0  50668.0  51416.0  50139.0  45300.0  31640.0  30487.0\n",
       "95%    52740.0  58185.0  58897.0  60104.0  56070.0  38779.0  38906.0\n",
       "max    56551.0  61806.0  62733.0  62081.0  58814.0  44610.0  41135.0"
      ]
     },
     "execution_count": 12,
     "metadata": {},
     "output_type": "execute_result"
    }
   ],
   "source": [
    "# Stat info for the distribution for subscribers\n",
    "zs.describe(percentiles=[.25, .5, .75, .95]).round()"
   ]
  },
  {
   "cell_type": "markdown",
   "metadata": {},
   "source": [
    "# Looking into the trip duration"
   ]
  },
  {
   "cell_type": "code",
   "execution_count": 13,
   "metadata": {
    "collapsed": true
   },
   "outputs": [],
   "source": [
    "#Let's check duration distribution on each day\n",
    "c1 = data1[data1['User Type'] ==  'Customer']\n",
    "c2 = data2[data2['User Type'] ==  'Customer']\n",
    "s1 = data1[data1['User Type'] ==  'Subscriber']\n",
    "s2 = data2[data2['User Type'] ==  'Subscriber']\n",
    "cust = pd.concat([c1, c2])\n",
    "subs = pd.concat([s1, s2])"
   ]
  },
  {
   "cell_type": "code",
   "execution_count": 14,
   "metadata": {},
   "outputs": [
    {
     "data": {
      "text/plain": [
       "count    1453178.0\n",
       "mean          34.0\n",
       "std          333.0\n",
       "min            1.0\n",
       "25%           14.0\n",
       "50%           21.0\n",
       "75%           29.0\n",
       "95%           66.0\n",
       "99%          188.0\n",
       "max       111792.0\n",
       "Name: Trip Duration, dtype: float64"
      ]
     },
     "execution_count": 14,
     "metadata": {},
     "output_type": "execute_result"
    }
   ],
   "source": [
    "# Get a sense of Trip duration distribution for non-subscribers\n",
    "(cust['Trip Duration']/60).describe(percentiles=[.25, .5, .75, .95, .99]).round()"
   ]
  },
  {
   "cell_type": "code",
   "execution_count": 17,
   "metadata": {},
   "outputs": [
    {
     "data": {
      "text/plain": [
       "(-10, 210)"
      ]
     },
     "execution_count": 17,
     "metadata": {},
     "output_type": "execute_result"
    },
    {
     "data": {
      "image/png": "[encoded data removed]",
      "text/plain": [
       "<matplotlib.figure.Figure at 0x1199c3710>"
      ]
     },
     "metadata": {},
     "output_type": "display_data"
    }
   ],
   "source": [
    "ax = (cust[cust['Trip Duration'] < 12000]['Trip Duration']/60)\\\n",
    "            .plot.hist(bins=100, title='Trip Duration of non-subscribers (min)')\n",
    "ax.set_xlim([-10, 210])"
   ]
  },
  {
   "cell_type": "code",
   "execution_count": 18,
   "metadata": {},
   "outputs": [
    {
     "data": {
      "text/plain": [
       "count    12596412.0\n",
       "mean           13.0\n",
       "std           126.0\n",
       "min             1.0\n",
       "25%             6.0\n",
       "50%            10.0\n",
       "75%            16.0\n",
       "95%            31.0\n",
       "99%            43.0\n",
       "max        148893.0\n",
       "Name: Trip Duration, dtype: float64"
      ]
     },
     "execution_count": 18,
     "metadata": {},
     "output_type": "execute_result"
    }
   ],
   "source": [
    "# Get a sense of Trip duration distribution for subscribers\n",
    "(subs['Trip Duration']/60).describe(percentiles=[.25, .5, .75, .95, .99]).round()"
   ]
  },
  {
   "cell_type": "code",
   "execution_count": 19,
   "metadata": {},
   "outputs": [
    {
     "data": {
      "text/plain": [
       "(-10, 210)"
      ]
     },
     "execution_count": 19,
     "metadata": {},
     "output_type": "execute_result"
    },
    {
     "data": {
      "image/png": "[encoded data removed]",
      "text/plain": [
       "<matplotlib.figure.Figure at 0x1491427b8>"
      ]
     },
     "metadata": {},
     "output_type": "display_data"
    }
   ],
   "source": [
    "ax = (subs[subs['Trip Duration'] < 2700]['Trip Duration']/60)\\\n",
    "            .plot.hist(bins=50, title='Trip Duration of subscribers (min)')\n",
    "ax.set_xlim([-10, 210])"
   ]
  },
  {
   "cell_type": "code",
   "execution_count": 20,
   "metadata": {
    "collapsed": true
   },
   "outputs": [],
   "source": [
    "# Look at the trip duration of non-subscrivers by the day of the week\n",
    "cd0 = cust[cust['start_dayofweek'] == 0]['Trip Duration'].reset_index(drop=True)\n",
    "cd1 = cust[cust['start_dayofweek'] == 1]['Trip Duration'].reset_index(drop=True)\n",
    "cd2 = cust[cust['start_dayofweek'] == 2]['Trip Duration'].reset_index(drop=True)\n",
    "cd3 = cust[cust['start_dayofweek'] == 3]['Trip Duration'].reset_index(drop=True)\n",
    "cd4 = cust[cust['start_dayofweek'] == 4]['Trip Duration'].reset_index(drop=True)\n",
    "cd5 = cust[cust['start_dayofweek'] == 5]['Trip Duration'].reset_index(drop=True)\n",
    "cd6 = cust[cust['start_dayofweek'] == 6]['Trip Duration'].reset_index(drop=True)\n",
    "cd = pd.concat([cd0, cd1, cd2, cd3, cd4, cd5, cd6], axis=1)\n",
    "cd.columns=['Mon', 'Tue', 'Wed', 'Thu', 'Fri', 'Sat', 'Sun']\n",
    "cd = cd/60"
   ]
  },
  {
   "cell_type": "code",
   "execution_count": 21,
   "metadata": {},
   "outputs": [
    {
     "data": {
      "text/html": [
       "<div>\n",
       "<style>\n",
       "    .dataframe thead tr:only-child th {\n",
       "        text-align: right;\n",
       "    }\n",
       "\n",
       "    .dataframe thead th {\n",
       "        text-align: left;\n",
       "    }\n",
       "\n",
       "    .dataframe tbody tr th {\n",
       "        vertical-align: top;\n",
       "    }\n",
       "</style>\n",
       "<table border=\"1\" class=\"dataframe\">\n",
       "  <thead>\n",
       "    <tr style=\"text-align: right;\">\n",
       "      <th></th>\n",
       "      <th>Mon</th>\n",
       "      <th>Tue</th>\n",
       "      <th>Wed</th>\n",
       "      <th>Thu</th>\n",
       "      <th>Fri</th>\n",
       "      <th>Sat</th>\n",
       "      <th>Sun</th>\n",
       "    </tr>\n",
       "  </thead>\n",
       "  <tbody>\n",
       "    <tr>\n",
       "      <th>count</th>\n",
       "      <td>182629.0</td>\n",
       "      <td>136885.0</td>\n",
       "      <td>149577.0</td>\n",
       "      <td>147668.0</td>\n",
       "      <td>175542.0</td>\n",
       "      <td>337301.0</td>\n",
       "      <td>323576.0</td>\n",
       "    </tr>\n",
       "    <tr>\n",
       "      <th>mean</th>\n",
       "      <td>32.0</td>\n",
       "      <td>33.0</td>\n",
       "      <td>35.0</td>\n",
       "      <td>33.0</td>\n",
       "      <td>36.0</td>\n",
       "      <td>34.0</td>\n",
       "      <td>35.0</td>\n",
       "    </tr>\n",
       "    <tr>\n",
       "      <th>std</th>\n",
       "      <td>208.0</td>\n",
       "      <td>361.0</td>\n",
       "      <td>434.0</td>\n",
       "      <td>265.0</td>\n",
       "      <td>470.0</td>\n",
       "      <td>242.0</td>\n",
       "      <td>343.0</td>\n",
       "    </tr>\n",
       "    <tr>\n",
       "      <th>min</th>\n",
       "      <td>1.0</td>\n",
       "      <td>1.0</td>\n",
       "      <td>1.0</td>\n",
       "      <td>1.0</td>\n",
       "      <td>1.0</td>\n",
       "      <td>1.0</td>\n",
       "      <td>1.0</td>\n",
       "    </tr>\n",
       "    <tr>\n",
       "      <th>25%</th>\n",
       "      <td>14.0</td>\n",
       "      <td>13.0</td>\n",
       "      <td>13.0</td>\n",
       "      <td>13.0</td>\n",
       "      <td>14.0</td>\n",
       "      <td>15.0</td>\n",
       "      <td>15.0</td>\n",
       "    </tr>\n",
       "    <tr>\n",
       "      <th>50%</th>\n",
       "      <td>21.0</td>\n",
       "      <td>21.0</td>\n",
       "      <td>21.0</td>\n",
       "      <td>21.0</td>\n",
       "      <td>21.0</td>\n",
       "      <td>22.0</td>\n",
       "      <td>22.0</td>\n",
       "    </tr>\n",
       "    <tr>\n",
       "      <th>75%</th>\n",
       "      <td>29.0</td>\n",
       "      <td>28.0</td>\n",
       "      <td>29.0</td>\n",
       "      <td>29.0</td>\n",
       "      <td>29.0</td>\n",
       "      <td>30.0</td>\n",
       "      <td>30.0</td>\n",
       "    </tr>\n",
       "    <tr>\n",
       "      <th>95%</th>\n",
       "      <td>65.0</td>\n",
       "      <td>63.0</td>\n",
       "      <td>64.0</td>\n",
       "      <td>64.0</td>\n",
       "      <td>64.0</td>\n",
       "      <td>66.0</td>\n",
       "      <td>69.0</td>\n",
       "    </tr>\n",
       "    <tr>\n",
       "      <th>99%</th>\n",
       "      <td>180.0</td>\n",
       "      <td>178.0</td>\n",
       "      <td>187.0</td>\n",
       "      <td>195.0</td>\n",
       "      <td>191.0</td>\n",
       "      <td>192.0</td>\n",
       "      <td>190.0</td>\n",
       "    </tr>\n",
       "    <tr>\n",
       "      <th>max</th>\n",
       "      <td>30236.0</td>\n",
       "      <td>81783.0</td>\n",
       "      <td>111792.0</td>\n",
       "      <td>57095.0</td>\n",
       "      <td>102952.0</td>\n",
       "      <td>57104.0</td>\n",
       "      <td>100896.0</td>\n",
       "    </tr>\n",
       "  </tbody>\n",
       "</table>\n",
       "</div>"
      ],
      "text/plain": [
       "            Mon       Tue       Wed       Thu       Fri       Sat       Sun\n",
       "count  182629.0  136885.0  149577.0  147668.0  175542.0  337301.0  323576.0\n",
       "mean       32.0      33.0      35.0      33.0      36.0      34.0      35.0\n",
       "std       208.0     361.0     434.0     265.0     470.0     242.0     343.0\n",
       "min         1.0       1.0       1.0       1.0       1.0       1.0       1.0\n",
       "25%        14.0      13.0      13.0      13.0      14.0      15.0      15.0\n",
       "50%        21.0      21.0      21.0      21.0      21.0      22.0      22.0\n",
       "75%        29.0      28.0      29.0      29.0      29.0      30.0      30.0\n",
       "95%        65.0      63.0      64.0      64.0      64.0      66.0      69.0\n",
       "99%       180.0     178.0     187.0     195.0     191.0     192.0     190.0\n",
       "max     30236.0   81783.0  111792.0   57095.0  102952.0   57104.0  100896.0"
      ]
     },
     "execution_count": 21,
     "metadata": {},
     "output_type": "execute_result"
    }
   ],
   "source": [
    "# Check basic stats by day of the week\n",
    "cd.describe(percentiles=[.25, .5, .75, .95, .99]).round()"
   ]
  },
  {
   "cell_type": "code",
   "execution_count": 23,
   "metadata": {},
   "outputs": [
    {
     "data": {
      "text/plain": [
       "(-5, 60)"
      ]
     },
     "execution_count": 23,
     "metadata": {},
     "output_type": "execute_result"
    },
    {
     "data": {
      "image/png": "[encoded data removed]",
      "text/plain": [
       "<matplotlib.figure.Figure at 0x16064b4a8>"
      ]
     },
     "metadata": {},
     "output_type": "display_data"
    }
   ],
   "source": [
    "# Check the non-subscribers\n",
    "cd_pruned = cd[cd < 70]\n",
    "ax = cd_pruned.plot(kind='box', title='Trip Duration of Non-Subscribers by the day of the week')\n",
    "ax.set_ylim([-5, 60])"
   ]
  },
  {
   "cell_type": "code",
   "execution_count": 24,
   "metadata": {
    "collapsed": true
   },
   "outputs": [],
   "source": [
    "# Look at trip duration of subscribers by the day of the week\n",
    "sd0 = subs[subs['start_dayofweek'] == 0]['Trip Duration'].reset_index(drop=True)\n",
    "sd1 = subs[subs['start_dayofweek'] == 1]['Trip Duration'].reset_index(drop=True)\n",
    "sd2 = subs[subs['start_dayofweek'] == 2]['Trip Duration'].reset_index(drop=True)\n",
    "sd3 = subs[subs['start_dayofweek'] == 3]['Trip Duration'].reset_index(drop=True)\n",
    "sd4 = subs[subs['start_dayofweek'] == 4]['Trip Duration'].reset_index(drop=True)\n",
    "sd5 = subs[subs['start_dayofweek'] == 5]['Trip Duration'].reset_index(drop=True)\n",
    "sd6 = subs[subs['start_dayofweek'] == 6]['Trip Duration'].reset_index(drop=True)\n",
    "sd = pd.concat([sd0, sd1, sd2, sd3, sd4, sd5, sd6], axis=1)\n",
    "sd.columns=['Mon', 'Tue', 'Wed', 'Thu', 'Fri', 'Sat', 'Sun']\n",
    "sd = sd/60"
   ]
  },
  {
   "cell_type": "code",
   "execution_count": 25,
   "metadata": {},
   "outputs": [
    {
     "data": {
      "text/html": [
       "<div>\n",
       "<style>\n",
       "    .dataframe thead tr:only-child th {\n",
       "        text-align: right;\n",
       "    }\n",
       "\n",
       "    .dataframe thead th {\n",
       "        text-align: left;\n",
       "    }\n",
       "\n",
       "    .dataframe tbody tr th {\n",
       "        vertical-align: top;\n",
       "    }\n",
       "</style>\n",
       "<table border=\"1\" class=\"dataframe\">\n",
       "  <thead>\n",
       "    <tr style=\"text-align: right;\">\n",
       "      <th></th>\n",
       "      <th>Mon</th>\n",
       "      <th>Tue</th>\n",
       "      <th>Wed</th>\n",
       "      <th>Thu</th>\n",
       "      <th>Fri</th>\n",
       "      <th>Sat</th>\n",
       "      <th>Sun</th>\n",
       "    </tr>\n",
       "  </thead>\n",
       "  <tbody>\n",
       "    <tr>\n",
       "      <th>count</th>\n",
       "      <td>1862781.0</td>\n",
       "      <td>1987360.0</td>\n",
       "      <td>2201654.0</td>\n",
       "      <td>2095102.0</td>\n",
       "      <td>1902828.0</td>\n",
       "      <td>1309480.0</td>\n",
       "      <td>1237207.0</td>\n",
       "    </tr>\n",
       "    <tr>\n",
       "      <th>mean</th>\n",
       "      <td>13.0</td>\n",
       "      <td>13.0</td>\n",
       "      <td>13.0</td>\n",
       "      <td>13.0</td>\n",
       "      <td>13.0</td>\n",
       "      <td>15.0</td>\n",
       "      <td>14.0</td>\n",
       "    </tr>\n",
       "    <tr>\n",
       "      <th>std</th>\n",
       "      <td>101.0</td>\n",
       "      <td>144.0</td>\n",
       "      <td>122.0</td>\n",
       "      <td>133.0</td>\n",
       "      <td>102.0</td>\n",
       "      <td>125.0</td>\n",
       "      <td>158.0</td>\n",
       "    </tr>\n",
       "    <tr>\n",
       "      <th>min</th>\n",
       "      <td>1.0</td>\n",
       "      <td>1.0</td>\n",
       "      <td>1.0</td>\n",
       "      <td>1.0</td>\n",
       "      <td>1.0</td>\n",
       "      <td>1.0</td>\n",
       "      <td>1.0</td>\n",
       "    </tr>\n",
       "    <tr>\n",
       "      <th>25%</th>\n",
       "      <td>6.0</td>\n",
       "      <td>6.0</td>\n",
       "      <td>6.0</td>\n",
       "      <td>6.0</td>\n",
       "      <td>6.0</td>\n",
       "      <td>6.0</td>\n",
       "      <td>6.0</td>\n",
       "    </tr>\n",
       "    <tr>\n",
       "      <th>50%</th>\n",
       "      <td>10.0</td>\n",
       "      <td>10.0</td>\n",
       "      <td>10.0</td>\n",
       "      <td>10.0</td>\n",
       "      <td>10.0</td>\n",
       "      <td>10.0</td>\n",
       "      <td>10.0</td>\n",
       "    </tr>\n",
       "    <tr>\n",
       "      <th>75%</th>\n",
       "      <td>16.0</td>\n",
       "      <td>16.0</td>\n",
       "      <td>16.0</td>\n",
       "      <td>16.0</td>\n",
       "      <td>16.0</td>\n",
       "      <td>17.0</td>\n",
       "      <td>17.0</td>\n",
       "    </tr>\n",
       "    <tr>\n",
       "      <th>95%</th>\n",
       "      <td>30.0</td>\n",
       "      <td>30.0</td>\n",
       "      <td>30.0</td>\n",
       "      <td>30.0</td>\n",
       "      <td>30.0</td>\n",
       "      <td>33.0</td>\n",
       "      <td>34.0</td>\n",
       "    </tr>\n",
       "    <tr>\n",
       "      <th>99%</th>\n",
       "      <td>43.0</td>\n",
       "      <td>42.0</td>\n",
       "      <td>42.0</td>\n",
       "      <td>42.0</td>\n",
       "      <td>43.0</td>\n",
       "      <td>48.0</td>\n",
       "      <td>48.0</td>\n",
       "    </tr>\n",
       "    <tr>\n",
       "      <th>99.9%</th>\n",
       "      <td>174.0</td>\n",
       "      <td>155.0</td>\n",
       "      <td>149.0</td>\n",
       "      <td>154.0</td>\n",
       "      <td>192.0</td>\n",
       "      <td>233.0</td>\n",
       "      <td>219.0</td>\n",
       "    </tr>\n",
       "    <tr>\n",
       "      <th>max</th>\n",
       "      <td>53161.0</td>\n",
       "      <td>148893.0</td>\n",
       "      <td>88761.0</td>\n",
       "      <td>121157.0</td>\n",
       "      <td>39633.0</td>\n",
       "      <td>65499.0</td>\n",
       "      <td>114773.0</td>\n",
       "    </tr>\n",
       "  </tbody>\n",
       "</table>\n",
       "</div>"
      ],
      "text/plain": [
       "             Mon        Tue        Wed        Thu        Fri        Sat  \\\n",
       "count  1862781.0  1987360.0  2201654.0  2095102.0  1902828.0  1309480.0   \n",
       "mean        13.0       13.0       13.0       13.0       13.0       15.0   \n",
       "std        101.0      144.0      122.0      133.0      102.0      125.0   \n",
       "min          1.0        1.0        1.0        1.0        1.0        1.0   \n",
       "25%          6.0        6.0        6.0        6.0        6.0        6.0   \n",
       "50%         10.0       10.0       10.0       10.0       10.0       10.0   \n",
       "75%         16.0       16.0       16.0       16.0       16.0       17.0   \n",
       "95%         30.0       30.0       30.0       30.0       30.0       33.0   \n",
       "99%         43.0       42.0       42.0       42.0       43.0       48.0   \n",
       "99.9%      174.0      155.0      149.0      154.0      192.0      233.0   \n",
       "max      53161.0   148893.0    88761.0   121157.0    39633.0    65499.0   \n",
       "\n",
       "             Sun  \n",
       "count  1237207.0  \n",
       "mean        14.0  \n",
       "std        158.0  \n",
       "min          1.0  \n",
       "25%          6.0  \n",
       "50%         10.0  \n",
       "75%         17.0  \n",
       "95%         34.0  \n",
       "99%         48.0  \n",
       "99.9%      219.0  \n",
       "max     114773.0  "
      ]
     },
     "execution_count": 25,
     "metadata": {},
     "output_type": "execute_result"
    }
   ],
   "source": [
    "# basic stats for the subscribers\n",
    "sd.describe(percentiles=[.25, .5, .75, .95, .99, .999]).round()"
   ]
  },
  {
   "cell_type": "code",
   "execution_count": 26,
   "metadata": {
    "scrolled": true
   },
   "outputs": [
    {
     "data": {
      "text/plain": [
       "(-5, 60)"
      ]
     },
     "execution_count": 26,
     "metadata": {},
     "output_type": "execute_result"
    },
    {
     "data": {
      "image/png": "[encoded data removed]",
      "text/plain": [
       "<matplotlib.figure.Figure at 0x18154b940>"
      ]
     },
     "metadata": {},
     "output_type": "display_data"
    }
   ],
   "source": [
    "# Check the subscribers\n",
    "sd_pruned = sd[sd < 50]\n",
    "ax = sd_pruned.plot(kind='box', title='Trip Duration of Subscribers by the day of the week')\n",
    "ax.set_ylim([-5, 60])"
   ]
  },
  {
   "cell_type": "markdown",
   "metadata": {
    "collapsed": true
   },
   "source": [
    "# Quick look at usage by location: Pershing Sq North"
   ]
  },
  {
   "cell_type": "code",
   "execution_count": 27,
   "metadata": {
    "collapsed": true,
    "scrolled": false
   },
   "outputs": [],
   "source": [
    "loc1 = data1.groupby('Start Station Name').size()\n",
    "loc2 = data2.groupby('Start Station Name').size()\n",
    "loc = loc1.add(loc2, fill_value=0)"
   ]
  },
  {
   "cell_type": "code",
   "execution_count": 28,
   "metadata": {},
   "outputs": [
    {
     "name": "stdout",
     "output_type": "stream",
     "text": [
      "Most Popular Locations\n",
      "Start Station Name\n",
      "Pershing Square North       152325.0\n",
      "E 17 St & Broadway          100818.0\n",
      "W 21 St & 6 Ave              99869.0\n",
      "Broadway & E 22 St           99623.0\n",
      "West St & Chambers St        97196.0\n",
      "8 Ave & W 33 St              86724.0\n",
      "Broadway & E 14 St           83997.0\n",
      "Greenwich Ave & 8 Ave        80905.0\n",
      "W 20 St & 11 Ave             80031.0\n",
      "Cleveland Pl & Spring St     78861.0\n",
      "dtype: float64\n"
     ]
    }
   ],
   "source": [
    "print('Most Popular Locations')\n",
    "print(loc.sort_values(ascending=False).head(10))"
   ]
  },
  {
   "cell_type": "code",
   "execution_count": 29,
   "metadata": {},
   "outputs": [
    {
     "name": "stdout",
     "output_type": "stream",
     "text": [
      "Least Popular Locations\n",
      "Start Station Name\n",
      "2 Ave & E 105 St                                   1.0\n",
      "NYCBS Depot - STY - Valet Scan                     2.0\n",
      "Kiosk in a box Deployment                          7.0\n",
      "3969.TEMP (Bike The Branches - Central Branch)     9.0\n",
      "8D OPS 01                                         11.0\n",
      "NYCBS Depot - FAR                                 17.0\n",
      "SSP Tech Workshop                                 18.0\n",
      "Marcy Ave & MacDonough St                         20.0\n",
      "Bike The Branches - Red Hook Branch               20.0\n",
      "10 Hudson Yards                                   21.0\n",
      "dtype: float64\n"
     ]
    }
   ],
   "source": [
    "print('Least Popular Locations')\n",
    "print(loc.sort_values(ascending=True).head(10))"
   ]
  },
  {
   "cell_type": "code",
   "execution_count": 30,
   "metadata": {
    "collapsed": true
   },
   "outputs": [],
   "source": [
    "#  Look at the busiest location\n",
    "pershing1 = data1[data1['Start Station Name'] == 'Pershing Square North']\n",
    "pershing2 = data2[data2['Start Station Name'] == 'Pershing Square North']\n",
    "pershing = pd.concat([pershing1, pershing2])"
   ]
  },
  {
   "cell_type": "code",
   "execution_count": 31,
   "metadata": {},
   "outputs": [
    {
     "data": {
      "text/html": [
       "<div>\n",
       "<style>\n",
       "    .dataframe thead tr:only-child th {\n",
       "        text-align: right;\n",
       "    }\n",
       "\n",
       "    .dataframe thead th {\n",
       "        text-align: left;\n",
       "    }\n",
       "\n",
       "    .dataframe tbody tr th {\n",
       "        vertical-align: top;\n",
       "    }\n",
       "</style>\n",
       "<table border=\"1\" class=\"dataframe\">\n",
       "  <thead>\n",
       "    <tr style=\"text-align: right;\">\n",
       "      <th></th>\n",
       "      <th>Trip Duration</th>\n",
       "      <th>Start Time</th>\n",
       "      <th>Stop Time</th>\n",
       "      <th>Start Station ID</th>\n",
       "      <th>Start Station Name</th>\n",
       "      <th>Start Station Latitude</th>\n",
       "      <th>Start Station Longitude</th>\n",
       "      <th>End Station ID</th>\n",
       "      <th>End Station Name</th>\n",
       "      <th>End Station Latitude</th>\n",
       "      <th>...</th>\n",
       "      <th>start_month</th>\n",
       "      <th>start_day</th>\n",
       "      <th>start_hour</th>\n",
       "      <th>start_dayofweek</th>\n",
       "      <th>stop Time</th>\n",
       "      <th>stop_year</th>\n",
       "      <th>stop_month</th>\n",
       "      <th>stop_day</th>\n",
       "      <th>stop_hour</th>\n",
       "      <th>stop_dayofweek</th>\n",
       "    </tr>\n",
       "  </thead>\n",
       "  <tbody>\n",
       "    <tr>\n",
       "      <th>31</th>\n",
       "      <td>1151</td>\n",
       "      <td>2016-04-01 00:04:34</td>\n",
       "      <td>4/1/2016 00:23:45</td>\n",
       "      <td>519</td>\n",
       "      <td>Pershing Square North</td>\n",
       "      <td>40.751873</td>\n",
       "      <td>-73.977706</td>\n",
       "      <td>3177</td>\n",
       "      <td>W 84 St &amp; Broadway</td>\n",
       "      <td>40.786795</td>\n",
       "      <td>...</td>\n",
       "      <td>4</td>\n",
       "      <td>1</td>\n",
       "      <td>0</td>\n",
       "      <td>4</td>\n",
       "      <td>2016-04-01 00:23:45</td>\n",
       "      <td>2016</td>\n",
       "      <td>4</td>\n",
       "      <td>1</td>\n",
       "      <td>0</td>\n",
       "      <td>4</td>\n",
       "    </tr>\n",
       "    <tr>\n",
       "      <th>98</th>\n",
       "      <td>492</td>\n",
       "      <td>2016-04-01 00:15:28</td>\n",
       "      <td>4/1/2016 00:23:41</td>\n",
       "      <td>519</td>\n",
       "      <td>Pershing Square North</td>\n",
       "      <td>40.751873</td>\n",
       "      <td>-73.977706</td>\n",
       "      <td>475</td>\n",
       "      <td>E 16 St &amp; Irving Pl</td>\n",
       "      <td>40.735243</td>\n",
       "      <td>...</td>\n",
       "      <td>4</td>\n",
       "      <td>1</td>\n",
       "      <td>0</td>\n",
       "      <td>4</td>\n",
       "      <td>2016-04-01 00:23:41</td>\n",
       "      <td>2016</td>\n",
       "      <td>4</td>\n",
       "      <td>1</td>\n",
       "      <td>0</td>\n",
       "      <td>4</td>\n",
       "    </tr>\n",
       "    <tr>\n",
       "      <th>165</th>\n",
       "      <td>595</td>\n",
       "      <td>2016-04-01 00:28:07</td>\n",
       "      <td>4/1/2016 00:38:03</td>\n",
       "      <td>519</td>\n",
       "      <td>Pershing Square North</td>\n",
       "      <td>40.751873</td>\n",
       "      <td>-73.977706</td>\n",
       "      <td>475</td>\n",
       "      <td>E 16 St &amp; Irving Pl</td>\n",
       "      <td>40.735243</td>\n",
       "      <td>...</td>\n",
       "      <td>4</td>\n",
       "      <td>1</td>\n",
       "      <td>0</td>\n",
       "      <td>4</td>\n",
       "      <td>2016-04-01 00:38:03</td>\n",
       "      <td>2016</td>\n",
       "      <td>4</td>\n",
       "      <td>1</td>\n",
       "      <td>0</td>\n",
       "      <td>4</td>\n",
       "    </tr>\n",
       "  </tbody>\n",
       "</table>\n",
       "<p>3 rows × 26 columns</p>\n",
       "</div>"
      ],
      "text/plain": [
       "     Trip Duration           Start Time          Stop Time  Start Station ID  \\\n",
       "31            1151  2016-04-01 00:04:34  4/1/2016 00:23:45               519   \n",
       "98             492  2016-04-01 00:15:28  4/1/2016 00:23:41               519   \n",
       "165            595  2016-04-01 00:28:07  4/1/2016 00:38:03               519   \n",
       "\n",
       "        Start Station Name  Start Station Latitude  Start Station Longitude  \\\n",
       "31   Pershing Square North               40.751873               -73.977706   \n",
       "98   Pershing Square North               40.751873               -73.977706   \n",
       "165  Pershing Square North               40.751873               -73.977706   \n",
       "\n",
       "     End Station ID     End Station Name  End Station Latitude  \\\n",
       "31             3177   W 84 St & Broadway             40.786795   \n",
       "98              475  E 16 St & Irving Pl             40.735243   \n",
       "165             475  E 16 St & Irving Pl             40.735243   \n",
       "\n",
       "          ...        start_month  start_day start_hour  start_dayofweek  \\\n",
       "31        ...                  4          1          0                4   \n",
       "98        ...                  4          1          0                4   \n",
       "165       ...                  4          1          0                4   \n",
       "\n",
       "               stop Time  stop_year  stop_month  stop_day  stop_hour  \\\n",
       "31   2016-04-01 00:23:45       2016           4         1          0   \n",
       "98   2016-04-01 00:23:41       2016           4         1          0   \n",
       "165  2016-04-01 00:38:03       2016           4         1          0   \n",
       "\n",
       "     stop_dayofweek  \n",
       "31                4  \n",
       "98                4  \n",
       "165               4  \n",
       "\n",
       "[3 rows x 26 columns]"
      ]
     },
     "execution_count": 31,
     "metadata": {},
     "output_type": "execute_result"
    }
   ],
   "source": [
    "pershing.head(3)"
   ]
  },
  {
   "cell_type": "code",
   "execution_count": 32,
   "metadata": {},
   "outputs": [
    {
     "data": {
      "text/plain": [
       "<matplotlib.axes._subplots.AxesSubplot at 0x1307523c8>"
      ]
     },
     "execution_count": 32,
     "metadata": {},
     "output_type": "execute_result"
    },
    {
     "data": {
      "image/png": "[encoded data removed]",
      "text/plain": [
       "<matplotlib.figure.Figure at 0x130747eb8>"
      ]
     },
     "metadata": {},
     "output_type": "display_data"
    }
   ],
   "source": [
    "# Boxplot the Non-subscriber data at Pershing Sq\n",
    "pershing_dofw_c = pershing[pershing['User Type'] == 'Customer'] \\\n",
    "        .groupby(['start_year', 'start_month', 'start_day', 'start_dayofweek', 'User Type']).size().unstack('start_dayofweek')\n",
    "pershing_dofw_c.columns = ['Mon', 'Tue', 'Wed', 'Thu', 'Fri', 'Sat', 'Sun']\n",
    "pershing_dofw_c.plot(kind='box', title='Bike pickups by Non-subscribers at Pershing Sq')"
   ]
  },
  {
   "cell_type": "code",
   "execution_count": 33,
   "metadata": {},
   "outputs": [
    {
     "data": {
      "text/plain": [
       "<matplotlib.axes._subplots.AxesSubplot at 0x1b52c4b70>"
      ]
     },
     "execution_count": 33,
     "metadata": {},
     "output_type": "execute_result"
    },
    {
     "data": {
      "image/png": "[encoded data removed]",
      "text/plain": [
       "<matplotlib.figure.Figure at 0x138e56940>"
      ]
     },
     "metadata": {},
     "output_type": "display_data"
    }
   ],
   "source": [
    "# Boxplot the Subscriber data at Pershing Sq\n",
    "pershing_dofw_s = pershing[pershing['User Type'] == 'Subscriber'] \\\n",
    "        .groupby(['start_year', 'start_month', 'start_day', 'start_dayofweek', 'User Type']).size().unstack('start_dayofweek')\n",
    "pershing_dofw_s.columns = ['Mon', 'Tue', 'Wed', 'Thu', 'Fri', 'Sat', 'Sun']\n",
    "pershing_dofw_s.plot(kind='box', title='Bike pickups by Subscribers at Pershing Sq')"
   ]
  },
  {
   "cell_type": "code",
   "execution_count": 34,
   "metadata": {},
   "outputs": [
    {
     "data": {
      "text/html": [
       "<div>\n",
       "<style>\n",
       "    .dataframe thead tr:only-child th {\n",
       "        text-align: right;\n",
       "    }\n",
       "\n",
       "    .dataframe thead th {\n",
       "        text-align: left;\n",
       "    }\n",
       "\n",
       "    .dataframe tbody tr th {\n",
       "        vertical-align: top;\n",
       "    }\n",
       "</style>\n",
       "<table border=\"1\" class=\"dataframe\">\n",
       "  <thead>\n",
       "    <tr style=\"text-align: right;\">\n",
       "      <th></th>\n",
       "      <th>Mon</th>\n",
       "      <th>Tue</th>\n",
       "      <th>Wed</th>\n",
       "      <th>Thu</th>\n",
       "      <th>Fri</th>\n",
       "      <th>Sat</th>\n",
       "      <th>Sun</th>\n",
       "    </tr>\n",
       "  </thead>\n",
       "  <tbody>\n",
       "    <tr>\n",
       "      <th>count</th>\n",
       "      <td>52.0</td>\n",
       "      <td>51.0</td>\n",
       "      <td>51.0</td>\n",
       "      <td>50.0</td>\n",
       "      <td>53.0</td>\n",
       "      <td>52.0</td>\n",
       "      <td>52.0</td>\n",
       "    </tr>\n",
       "    <tr>\n",
       "      <th>mean</th>\n",
       "      <td>483.0</td>\n",
       "      <td>529.0</td>\n",
       "      <td>574.0</td>\n",
       "      <td>561.0</td>\n",
       "      <td>445.0</td>\n",
       "      <td>117.0</td>\n",
       "      <td>105.0</td>\n",
       "    </tr>\n",
       "    <tr>\n",
       "      <th>std</th>\n",
       "      <td>192.0</td>\n",
       "      <td>168.0</td>\n",
       "      <td>122.0</td>\n",
       "      <td>143.0</td>\n",
       "      <td>159.0</td>\n",
       "      <td>45.0</td>\n",
       "      <td>41.0</td>\n",
       "    </tr>\n",
       "    <tr>\n",
       "      <th>min</th>\n",
       "      <td>49.0</td>\n",
       "      <td>171.0</td>\n",
       "      <td>255.0</td>\n",
       "      <td>66.0</td>\n",
       "      <td>26.0</td>\n",
       "      <td>22.0</td>\n",
       "      <td>25.0</td>\n",
       "    </tr>\n",
       "    <tr>\n",
       "      <th>25%</th>\n",
       "      <td>402.0</td>\n",
       "      <td>418.0</td>\n",
       "      <td>490.0</td>\n",
       "      <td>510.0</td>\n",
       "      <td>374.0</td>\n",
       "      <td>93.0</td>\n",
       "      <td>75.0</td>\n",
       "    </tr>\n",
       "    <tr>\n",
       "      <th>50%</th>\n",
       "      <td>544.0</td>\n",
       "      <td>551.0</td>\n",
       "      <td>584.0</td>\n",
       "      <td>567.0</td>\n",
       "      <td>480.0</td>\n",
       "      <td>120.0</td>\n",
       "      <td>102.0</td>\n",
       "    </tr>\n",
       "    <tr>\n",
       "      <th>75%</th>\n",
       "      <td>615.0</td>\n",
       "      <td>656.0</td>\n",
       "      <td>676.0</td>\n",
       "      <td>657.0</td>\n",
       "      <td>543.0</td>\n",
       "      <td>154.0</td>\n",
       "      <td>140.0</td>\n",
       "    </tr>\n",
       "    <tr>\n",
       "      <th>max</th>\n",
       "      <td>774.0</td>\n",
       "      <td>827.0</td>\n",
       "      <td>789.0</td>\n",
       "      <td>768.0</td>\n",
       "      <td>697.0</td>\n",
       "      <td>208.0</td>\n",
       "      <td>193.0</td>\n",
       "    </tr>\n",
       "  </tbody>\n",
       "</table>\n",
       "</div>"
      ],
      "text/plain": [
       "         Mon    Tue    Wed    Thu    Fri    Sat    Sun\n",
       "count   52.0   51.0   51.0   50.0   53.0   52.0   52.0\n",
       "mean   483.0  529.0  574.0  561.0  445.0  117.0  105.0\n",
       "std    192.0  168.0  122.0  143.0  159.0   45.0   41.0\n",
       "min     49.0  171.0  255.0   66.0   26.0   22.0   25.0\n",
       "25%    402.0  418.0  490.0  510.0  374.0   93.0   75.0\n",
       "50%    544.0  551.0  584.0  567.0  480.0  120.0  102.0\n",
       "75%    615.0  656.0  676.0  657.0  543.0  154.0  140.0\n",
       "max    774.0  827.0  789.0  768.0  697.0  208.0  193.0"
      ]
     },
     "execution_count": 34,
     "metadata": {},
     "output_type": "execute_result"
    }
   ],
   "source": [
    "# usage stats for Pershing Sq. North\n",
    "pershing_dofw_s.describe().round()"
   ]
  },
  {
   "cell_type": "markdown",
   "metadata": {
    "collapsed": true
   },
   "source": [
    "# Quick look at usage by location: My neighborhood"
   ]
  },
  {
   "cell_type": "code",
   "execution_count": 35,
   "metadata": {
    "collapsed": true
   },
   "outputs": [],
   "source": [
    "my_loc1 = data1[data1['Start Station Name'] == '3 Ave & E 71 St']\n",
    "my_loc2 = data2[data2['Start Station Name'] == '3 Ave & E 71 St']\n",
    "my_loc = pd.concat([my_loc1, my_loc2])"
   ]
  },
  {
   "cell_type": "code",
   "execution_count": 36,
   "metadata": {},
   "outputs": [
    {
     "data": {
      "text/plain": [
       "<matplotlib.axes._subplots.AxesSubplot at 0x12a7b2518>"
      ]
     },
     "execution_count": 36,
     "metadata": {},
     "output_type": "execute_result"
    },
    {
     "data": {
      "image/png": "[encoded data removed]",
      "text/plain": [
       "<matplotlib.figure.Figure at 0x16c58d978>"
      ]
     },
     "metadata": {},
     "output_type": "display_data"
    }
   ],
   "source": [
    "# Boxplot usage by subscribers\n",
    "my_loc_dofw_s = my_loc[my_loc['User Type'] == 'Customer'] \\\n",
    "        .groupby(['start_year', 'start_month', 'start_day', 'start_dayofweek', 'User Type']).size().unstack('start_dayofweek')\n",
    "my_loc_dofw_s.columns = ['Mon', 'Tue', 'Wed', 'Thu', 'Fri', 'Sat', 'Sun']\n",
    "my_loc_dofw_s.plot(kind='box', title='Bike pickups by non-subscribers at 3 Ave & E 71 St')"
   ]
  },
  {
   "cell_type": "code",
   "execution_count": 38,
   "metadata": {},
   "outputs": [
    {
     "data": {
      "text/plain": [
       "<matplotlib.axes._subplots.AxesSubplot at 0x10c707358>"
      ]
     },
     "execution_count": 38,
     "metadata": {},
     "output_type": "execute_result"
    },
    {
     "data": {
      "image/png": "[encoded data removed]",
      "text/plain": [
       "<matplotlib.figure.Figure at 0x12a7ba5c0>"
      ]
     },
     "metadata": {},
     "output_type": "display_data"
    }
   ],
   "source": [
    "my_loc_dofw_s = my_loc[my_loc['User Type'] == 'Subscriber'] \\\n",
    "        .groupby(['start_year', 'start_month', 'start_day', 'start_dayofweek', 'User Type']).size().unstack('start_dayofweek')\n",
    "my_loc_dofw_s.columns = ['Mon', 'Tue', 'Wed', 'Thu', 'Fri', 'Sat', 'Sun']\n",
    "my_loc_dofw_s.plot(kind='box', title='Bike pickups by subscribers at 3 Ave & E 71 St')"
   ]
  },
  {
   "cell_type": "code",
   "execution_count": 39,
   "metadata": {},
   "outputs": [
    {
     "data": {
      "text/html": [
       "<div>\n",
       "<style>\n",
       "    .dataframe thead tr:only-child th {\n",
       "        text-align: right;\n",
       "    }\n",
       "\n",
       "    .dataframe thead th {\n",
       "        text-align: left;\n",
       "    }\n",
       "\n",
       "    .dataframe tbody tr th {\n",
       "        vertical-align: top;\n",
       "    }\n",
       "</style>\n",
       "<table border=\"1\" class=\"dataframe\">\n",
       "  <thead>\n",
       "    <tr style=\"text-align: right;\">\n",
       "      <th></th>\n",
       "      <th>Mon</th>\n",
       "      <th>Tue</th>\n",
       "      <th>Wed</th>\n",
       "      <th>Thu</th>\n",
       "      <th>Fri</th>\n",
       "      <th>Sat</th>\n",
       "      <th>Sun</th>\n",
       "    </tr>\n",
       "  </thead>\n",
       "  <tbody>\n",
       "    <tr>\n",
       "      <th>count</th>\n",
       "      <td>43.0</td>\n",
       "      <td>42.0</td>\n",
       "      <td>42.0</td>\n",
       "      <td>41.0</td>\n",
       "      <td>43.0</td>\n",
       "      <td>42.0</td>\n",
       "      <td>41.0</td>\n",
       "    </tr>\n",
       "    <tr>\n",
       "      <th>mean</th>\n",
       "      <td>30.0</td>\n",
       "      <td>35.0</td>\n",
       "      <td>38.0</td>\n",
       "      <td>33.0</td>\n",
       "      <td>30.0</td>\n",
       "      <td>19.0</td>\n",
       "      <td>20.0</td>\n",
       "    </tr>\n",
       "    <tr>\n",
       "      <th>std</th>\n",
       "      <td>14.0</td>\n",
       "      <td>17.0</td>\n",
       "      <td>15.0</td>\n",
       "      <td>14.0</td>\n",
       "      <td>17.0</td>\n",
       "      <td>9.0</td>\n",
       "      <td>12.0</td>\n",
       "    </tr>\n",
       "    <tr>\n",
       "      <th>min</th>\n",
       "      <td>5.0</td>\n",
       "      <td>6.0</td>\n",
       "      <td>16.0</td>\n",
       "      <td>13.0</td>\n",
       "      <td>3.0</td>\n",
       "      <td>4.0</td>\n",
       "      <td>3.0</td>\n",
       "    </tr>\n",
       "    <tr>\n",
       "      <th>25%</th>\n",
       "      <td>18.0</td>\n",
       "      <td>23.0</td>\n",
       "      <td>28.0</td>\n",
       "      <td>24.0</td>\n",
       "      <td>20.0</td>\n",
       "      <td>11.0</td>\n",
       "      <td>12.0</td>\n",
       "    </tr>\n",
       "    <tr>\n",
       "      <th>50%</th>\n",
       "      <td>30.0</td>\n",
       "      <td>31.0</td>\n",
       "      <td>34.0</td>\n",
       "      <td>29.0</td>\n",
       "      <td>28.0</td>\n",
       "      <td>16.0</td>\n",
       "      <td>18.0</td>\n",
       "    </tr>\n",
       "    <tr>\n",
       "      <th>75%</th>\n",
       "      <td>38.0</td>\n",
       "      <td>50.0</td>\n",
       "      <td>47.0</td>\n",
       "      <td>37.0</td>\n",
       "      <td>36.0</td>\n",
       "      <td>25.0</td>\n",
       "      <td>24.0</td>\n",
       "    </tr>\n",
       "    <tr>\n",
       "      <th>max</th>\n",
       "      <td>64.0</td>\n",
       "      <td>70.0</td>\n",
       "      <td>75.0</td>\n",
       "      <td>74.0</td>\n",
       "      <td>77.0</td>\n",
       "      <td>45.0</td>\n",
       "      <td>62.0</td>\n",
       "    </tr>\n",
       "  </tbody>\n",
       "</table>\n",
       "</div>"
      ],
      "text/plain": [
       "        Mon   Tue   Wed   Thu   Fri   Sat   Sun\n",
       "count  43.0  42.0  42.0  41.0  43.0  42.0  41.0\n",
       "mean   30.0  35.0  38.0  33.0  30.0  19.0  20.0\n",
       "std    14.0  17.0  15.0  14.0  17.0   9.0  12.0\n",
       "min     5.0   6.0  16.0  13.0   3.0   4.0   3.0\n",
       "25%    18.0  23.0  28.0  24.0  20.0  11.0  12.0\n",
       "50%    30.0  31.0  34.0  29.0  28.0  16.0  18.0\n",
       "75%    38.0  50.0  47.0  37.0  36.0  25.0  24.0\n",
       "max    64.0  70.0  75.0  74.0  77.0  45.0  62.0"
      ]
     },
     "execution_count": 39,
     "metadata": {},
     "output_type": "execute_result"
    }
   ],
   "source": [
    "my_loc_dofw_s.describe().round()"
   ]
  },
  {
   "cell_type": "markdown",
   "metadata": {
    "collapsed": true
   },
   "source": [
    "# Look at how usage vary by location"
   ]
  },
  {
   "cell_type": "code",
   "execution_count": 40,
   "metadata": {
    "scrolled": true
   },
   "outputs": [
    {
     "data": {
      "text/html": [
       "<div>\n",
       "<style>\n",
       "    .dataframe thead tr:only-child th {\n",
       "        text-align: right;\n",
       "    }\n",
       "\n",
       "    .dataframe thead th {\n",
       "        text-align: left;\n",
       "    }\n",
       "\n",
       "    .dataframe tbody tr th {\n",
       "        vertical-align: top;\n",
       "    }\n",
       "</style>\n",
       "<table border=\"1\" class=\"dataframe\">\n",
       "  <thead>\n",
       "    <tr style=\"text-align: right;\">\n",
       "      <th></th>\n",
       "      <th>Mon</th>\n",
       "      <th>Tue</th>\n",
       "      <th>Wed</th>\n",
       "      <th>Thu</th>\n",
       "      <th>Fri</th>\n",
       "      <th>Sat</th>\n",
       "      <th>Sun</th>\n",
       "      <th>Total Usage</th>\n",
       "    </tr>\n",
       "    <tr>\n",
       "      <th>Start Station Name</th>\n",
       "      <th></th>\n",
       "      <th></th>\n",
       "      <th></th>\n",
       "      <th></th>\n",
       "      <th></th>\n",
       "      <th></th>\n",
       "      <th></th>\n",
       "      <th></th>\n",
       "    </tr>\n",
       "  </thead>\n",
       "  <tbody>\n",
       "    <tr>\n",
       "      <th>Central Park S &amp; 6 Ave</th>\n",
       "      <td>5410.0</td>\n",
       "      <td>3806.0</td>\n",
       "      <td>4396.0</td>\n",
       "      <td>4264.0</td>\n",
       "      <td>4832.0</td>\n",
       "      <td>8967.0</td>\n",
       "      <td>9370.0</td>\n",
       "      <td>41045.0</td>\n",
       "    </tr>\n",
       "    <tr>\n",
       "      <th>Centre St &amp; Chambers St</th>\n",
       "      <td>3646.0</td>\n",
       "      <td>2616.0</td>\n",
       "      <td>2908.0</td>\n",
       "      <td>2735.0</td>\n",
       "      <td>3096.0</td>\n",
       "      <td>6098.0</td>\n",
       "      <td>5757.0</td>\n",
       "      <td>26856.0</td>\n",
       "    </tr>\n",
       "    <tr>\n",
       "      <th>12 Ave &amp; W 40 St</th>\n",
       "      <td>2779.0</td>\n",
       "      <td>2011.0</td>\n",
       "      <td>2351.0</td>\n",
       "      <td>2198.0</td>\n",
       "      <td>2959.0</td>\n",
       "      <td>5820.0</td>\n",
       "      <td>5528.0</td>\n",
       "      <td>23646.0</td>\n",
       "    </tr>\n",
       "  </tbody>\n",
       "</table>\n",
       "</div>"
      ],
      "text/plain": [
       "                            Mon     Tue     Wed     Thu     Fri     Sat  \\\n",
       "Start Station Name                                                        \n",
       "Central Park S & 6 Ave   5410.0  3806.0  4396.0  4264.0  4832.0  8967.0   \n",
       "Centre St & Chambers St  3646.0  2616.0  2908.0  2735.0  3096.0  6098.0   \n",
       "12 Ave & W 40 St         2779.0  2011.0  2351.0  2198.0  2959.0  5820.0   \n",
       "\n",
       "                            Sun  Total Usage  \n",
       "Start Station Name                            \n",
       "Central Park S & 6 Ave   9370.0      41045.0  \n",
       "Centre St & Chambers St  5757.0      26856.0  \n",
       "12 Ave & W 40 St         5528.0      23646.0  "
      ]
     },
     "execution_count": 40,
     "metadata": {},
     "output_type": "execute_result"
    }
   ],
   "source": [
    "# location based usage by the day of the week for non-subscribers\n",
    "ubyloc_c = cust.groupby(['Start Station Name', 'start_dayofweek']).size().unstack('start_dayofweek')\n",
    "ubyloc_c.columns = ['Mon', 'Tue', 'Wed', 'Thu', 'Fri', 'Sat', 'Sun']\n",
    "ubyloc_c['Total Usage'] = ubyloc_c.sum(axis=1)\n",
    "ubyloc_c.sort_values('Total Usage', ascending=False).head(3)"
   ]
  },
  {
   "cell_type": "code",
   "execution_count": 41,
   "metadata": {},
   "outputs": [
    {
     "data": {
      "text/html": [
       "<div>\n",
       "<style>\n",
       "    .dataframe thead tr:only-child th {\n",
       "        text-align: right;\n",
       "    }\n",
       "\n",
       "    .dataframe thead th {\n",
       "        text-align: left;\n",
       "    }\n",
       "\n",
       "    .dataframe tbody tr th {\n",
       "        vertical-align: top;\n",
       "    }\n",
       "</style>\n",
       "<table border=\"1\" class=\"dataframe\">\n",
       "  <thead>\n",
       "    <tr style=\"text-align: right;\">\n",
       "      <th></th>\n",
       "      <th>Mon</th>\n",
       "      <th>Tue</th>\n",
       "      <th>Wed</th>\n",
       "      <th>Thu</th>\n",
       "      <th>Fri</th>\n",
       "      <th>Sat</th>\n",
       "      <th>Sun</th>\n",
       "      <th>Total Usage</th>\n",
       "    </tr>\n",
       "  </thead>\n",
       "  <tbody>\n",
       "    <tr>\n",
       "      <th>count</th>\n",
       "      <td>638.0</td>\n",
       "      <td>636.0</td>\n",
       "      <td>644.0</td>\n",
       "      <td>643.0</td>\n",
       "      <td>639.0</td>\n",
       "      <td>645.0</td>\n",
       "      <td>639.0</td>\n",
       "      <td>650.0</td>\n",
       "    </tr>\n",
       "    <tr>\n",
       "      <th>mean</th>\n",
       "      <td>286.0</td>\n",
       "      <td>215.0</td>\n",
       "      <td>232.0</td>\n",
       "      <td>230.0</td>\n",
       "      <td>275.0</td>\n",
       "      <td>523.0</td>\n",
       "      <td>506.0</td>\n",
       "      <td>2236.0</td>\n",
       "    </tr>\n",
       "    <tr>\n",
       "      <th>std</th>\n",
       "      <td>452.0</td>\n",
       "      <td>327.0</td>\n",
       "      <td>361.0</td>\n",
       "      <td>349.0</td>\n",
       "      <td>419.0</td>\n",
       "      <td>796.0</td>\n",
       "      <td>791.0</td>\n",
       "      <td>3460.0</td>\n",
       "    </tr>\n",
       "    <tr>\n",
       "      <th>min</th>\n",
       "      <td>1.0</td>\n",
       "      <td>1.0</td>\n",
       "      <td>1.0</td>\n",
       "      <td>1.0</td>\n",
       "      <td>1.0</td>\n",
       "      <td>1.0</td>\n",
       "      <td>1.0</td>\n",
       "      <td>2.0</td>\n",
       "    </tr>\n",
       "    <tr>\n",
       "      <th>25%</th>\n",
       "      <td>48.0</td>\n",
       "      <td>38.0</td>\n",
       "      <td>38.0</td>\n",
       "      <td>40.0</td>\n",
       "      <td>48.0</td>\n",
       "      <td>97.0</td>\n",
       "      <td>96.0</td>\n",
       "      <td>397.0</td>\n",
       "    </tr>\n",
       "    <tr>\n",
       "      <th>50%</th>\n",
       "      <td>154.0</td>\n",
       "      <td>118.0</td>\n",
       "      <td>124.0</td>\n",
       "      <td>127.0</td>\n",
       "      <td>144.0</td>\n",
       "      <td>288.0</td>\n",
       "      <td>288.0</td>\n",
       "      <td>1226.0</td>\n",
       "    </tr>\n",
       "    <tr>\n",
       "      <th>75%</th>\n",
       "      <td>351.0</td>\n",
       "      <td>266.0</td>\n",
       "      <td>287.0</td>\n",
       "      <td>288.0</td>\n",
       "      <td>344.0</td>\n",
       "      <td>636.0</td>\n",
       "      <td>609.0</td>\n",
       "      <td>2704.0</td>\n",
       "    </tr>\n",
       "    <tr>\n",
       "      <th>95%</th>\n",
       "      <td>965.0</td>\n",
       "      <td>685.0</td>\n",
       "      <td>720.0</td>\n",
       "      <td>753.0</td>\n",
       "      <td>891.0</td>\n",
       "      <td>1729.0</td>\n",
       "      <td>1560.0</td>\n",
       "      <td>7306.0</td>\n",
       "    </tr>\n",
       "    <tr>\n",
       "      <th>99%</th>\n",
       "      <td>2318.0</td>\n",
       "      <td>1745.0</td>\n",
       "      <td>1965.0</td>\n",
       "      <td>1866.0</td>\n",
       "      <td>2363.0</td>\n",
       "      <td>4384.0</td>\n",
       "      <td>4375.0</td>\n",
       "      <td>18937.0</td>\n",
       "    </tr>\n",
       "    <tr>\n",
       "      <th>max</th>\n",
       "      <td>5410.0</td>\n",
       "      <td>3806.0</td>\n",
       "      <td>4396.0</td>\n",
       "      <td>4264.0</td>\n",
       "      <td>4832.0</td>\n",
       "      <td>8967.0</td>\n",
       "      <td>9370.0</td>\n",
       "      <td>41045.0</td>\n",
       "    </tr>\n",
       "  </tbody>\n",
       "</table>\n",
       "</div>"
      ],
      "text/plain": [
       "          Mon     Tue     Wed     Thu     Fri     Sat     Sun  Total Usage\n",
       "count   638.0   636.0   644.0   643.0   639.0   645.0   639.0        650.0\n",
       "mean    286.0   215.0   232.0   230.0   275.0   523.0   506.0       2236.0\n",
       "std     452.0   327.0   361.0   349.0   419.0   796.0   791.0       3460.0\n",
       "min       1.0     1.0     1.0     1.0     1.0     1.0     1.0          2.0\n",
       "25%      48.0    38.0    38.0    40.0    48.0    97.0    96.0        397.0\n",
       "50%     154.0   118.0   124.0   127.0   144.0   288.0   288.0       1226.0\n",
       "75%     351.0   266.0   287.0   288.0   344.0   636.0   609.0       2704.0\n",
       "95%     965.0   685.0   720.0   753.0   891.0  1729.0  1560.0       7306.0\n",
       "99%    2318.0  1745.0  1965.0  1866.0  2363.0  4384.0  4375.0      18937.0\n",
       "max    5410.0  3806.0  4396.0  4264.0  4832.0  8967.0  9370.0      41045.0"
      ]
     },
     "execution_count": 41,
     "metadata": {},
     "output_type": "execute_result"
    }
   ],
   "source": [
    "ubyloc_c.describe(percentiles=[.25, .5, .75, .95, .99]).round()"
   ]
  },
  {
   "cell_type": "code",
   "execution_count": 56,
   "metadata": {},
   "outputs": [
    {
     "data": {
      "text/plain": [
       "<matplotlib.axes._subplots.AxesSubplot at 0x1d8152588>"
      ]
     },
     "execution_count": 56,
     "metadata": {},
     "output_type": "execute_result"
    },
    {
     "data": {
      "image/png": "[encoded data removed]",
      "text/plain": [
       "<matplotlib.figure.Figure at 0x1d8159208>"
      ]
     },
     "metadata": {},
     "output_type": "display_data"
    }
   ],
   "source": [
    "ubyloc_c[['Sun', 'Sat', 'Fri', 'Thu', 'Wed', 'Tue', 'Mon']].plot(kind='box', \\\n",
    "                    vert=False, title='Usage Distribution by location for non-subscribers', xlim=[-50, 1600])"
   ]
  },
  {
   "cell_type": "code",
   "execution_count": 47,
   "metadata": {
    "scrolled": true
   },
   "outputs": [
    {
     "data": {
      "text/html": [
       "<div>\n",
       "<style>\n",
       "    .dataframe thead tr:only-child th {\n",
       "        text-align: right;\n",
       "    }\n",
       "\n",
       "    .dataframe thead th {\n",
       "        text-align: left;\n",
       "    }\n",
       "\n",
       "    .dataframe tbody tr th {\n",
       "        vertical-align: top;\n",
       "    }\n",
       "</style>\n",
       "<table border=\"1\" class=\"dataframe\">\n",
       "  <thead>\n",
       "    <tr style=\"text-align: right;\">\n",
       "      <th></th>\n",
       "      <th>Mon</th>\n",
       "      <th>Tue</th>\n",
       "      <th>Wed</th>\n",
       "      <th>Thu</th>\n",
       "      <th>Fri</th>\n",
       "      <th>Sat</th>\n",
       "      <th>Sun</th>\n",
       "      <th>Total Usage</th>\n",
       "    </tr>\n",
       "    <tr>\n",
       "      <th>Start Station Name</th>\n",
       "      <th></th>\n",
       "      <th></th>\n",
       "      <th></th>\n",
       "      <th></th>\n",
       "      <th></th>\n",
       "      <th></th>\n",
       "      <th></th>\n",
       "      <th></th>\n",
       "    </tr>\n",
       "  </thead>\n",
       "  <tbody>\n",
       "    <tr>\n",
       "      <th>Pershing Square North</th>\n",
       "      <td>25111.0</td>\n",
       "      <td>26962.0</td>\n",
       "      <td>29262.0</td>\n",
       "      <td>28038.0</td>\n",
       "      <td>23588.0</td>\n",
       "      <td>6083.0</td>\n",
       "      <td>5461.0</td>\n",
       "      <td>144505.0</td>\n",
       "    </tr>\n",
       "    <tr>\n",
       "      <th>W 21 St &amp; 6 Ave</th>\n",
       "      <td>15152.0</td>\n",
       "      <td>15099.0</td>\n",
       "      <td>16350.0</td>\n",
       "      <td>15128.0</td>\n",
       "      <td>13923.0</td>\n",
       "      <td>10275.0</td>\n",
       "      <td>10315.0</td>\n",
       "      <td>96242.0</td>\n",
       "    </tr>\n",
       "    <tr>\n",
       "      <th>Broadway &amp; E 22 St</th>\n",
       "      <td>14746.0</td>\n",
       "      <td>16010.0</td>\n",
       "      <td>17708.0</td>\n",
       "      <td>17192.0</td>\n",
       "      <td>14405.0</td>\n",
       "      <td>7253.0</td>\n",
       "      <td>6690.0</td>\n",
       "      <td>94004.0</td>\n",
       "    </tr>\n",
       "  </tbody>\n",
       "</table>\n",
       "</div>"
      ],
      "text/plain": [
       "                           Mon      Tue      Wed      Thu      Fri      Sat  \\\n",
       "Start Station Name                                                            \n",
       "Pershing Square North  25111.0  26962.0  29262.0  28038.0  23588.0   6083.0   \n",
       "W 21 St & 6 Ave        15152.0  15099.0  16350.0  15128.0  13923.0  10275.0   \n",
       "Broadway & E 22 St     14746.0  16010.0  17708.0  17192.0  14405.0   7253.0   \n",
       "\n",
       "                           Sun  Total Usage  \n",
       "Start Station Name                           \n",
       "Pershing Square North   5461.0     144505.0  \n",
       "W 21 St & 6 Ave        10315.0      96242.0  \n",
       "Broadway & E 22 St      6690.0      94004.0  "
      ]
     },
     "execution_count": 47,
     "metadata": {},
     "output_type": "execute_result"
    }
   ],
   "source": [
    "# location based usage by the day of the week for ubscribers\n",
    "ubyloc_s = subs.groupby(['Start Station Name', 'start_dayofweek']).size().unstack('start_dayofweek')\n",
    "ubyloc_s.columns = ['Mon', 'Tue', 'Wed', 'Thu', 'Fri', 'Sat', 'Sun']\n",
    "ubyloc_s['Total Usage'] = ubyloc_s.sum(axis=1)\n",
    "ubyloc_s.sort_values('Total Usage', ascending=False).head(3)"
   ]
  },
  {
   "cell_type": "code",
   "execution_count": 48,
   "metadata": {},
   "outputs": [
    {
     "data": {
      "text/html": [
       "<div>\n",
       "<style>\n",
       "    .dataframe thead tr:only-child th {\n",
       "        text-align: right;\n",
       "    }\n",
       "\n",
       "    .dataframe thead th {\n",
       "        text-align: left;\n",
       "    }\n",
       "\n",
       "    .dataframe tbody tr th {\n",
       "        vertical-align: top;\n",
       "    }\n",
       "</style>\n",
       "<table border=\"1\" class=\"dataframe\">\n",
       "  <thead>\n",
       "    <tr style=\"text-align: right;\">\n",
       "      <th></th>\n",
       "      <th>Mon</th>\n",
       "      <th>Tue</th>\n",
       "      <th>Wed</th>\n",
       "      <th>Thu</th>\n",
       "      <th>Fri</th>\n",
       "      <th>Sat</th>\n",
       "      <th>Sun</th>\n",
       "      <th>Total Usage</th>\n",
       "    </tr>\n",
       "  </thead>\n",
       "  <tbody>\n",
       "    <tr>\n",
       "      <th>count</th>\n",
       "      <td>638.0</td>\n",
       "      <td>636.0</td>\n",
       "      <td>644.0</td>\n",
       "      <td>643.0</td>\n",
       "      <td>639.0</td>\n",
       "      <td>645.0</td>\n",
       "      <td>639.0</td>\n",
       "      <td>650.0</td>\n",
       "    </tr>\n",
       "    <tr>\n",
       "      <th>mean</th>\n",
       "      <td>286.0</td>\n",
       "      <td>215.0</td>\n",
       "      <td>232.0</td>\n",
       "      <td>230.0</td>\n",
       "      <td>275.0</td>\n",
       "      <td>523.0</td>\n",
       "      <td>506.0</td>\n",
       "      <td>2236.0</td>\n",
       "    </tr>\n",
       "    <tr>\n",
       "      <th>std</th>\n",
       "      <td>452.0</td>\n",
       "      <td>327.0</td>\n",
       "      <td>361.0</td>\n",
       "      <td>349.0</td>\n",
       "      <td>419.0</td>\n",
       "      <td>796.0</td>\n",
       "      <td>791.0</td>\n",
       "      <td>3460.0</td>\n",
       "    </tr>\n",
       "    <tr>\n",
       "      <th>min</th>\n",
       "      <td>1.0</td>\n",
       "      <td>1.0</td>\n",
       "      <td>1.0</td>\n",
       "      <td>1.0</td>\n",
       "      <td>1.0</td>\n",
       "      <td>1.0</td>\n",
       "      <td>1.0</td>\n",
       "      <td>2.0</td>\n",
       "    </tr>\n",
       "    <tr>\n",
       "      <th>25%</th>\n",
       "      <td>48.0</td>\n",
       "      <td>38.0</td>\n",
       "      <td>38.0</td>\n",
       "      <td>40.0</td>\n",
       "      <td>48.0</td>\n",
       "      <td>97.0</td>\n",
       "      <td>96.0</td>\n",
       "      <td>397.0</td>\n",
       "    </tr>\n",
       "    <tr>\n",
       "      <th>50%</th>\n",
       "      <td>154.0</td>\n",
       "      <td>118.0</td>\n",
       "      <td>124.0</td>\n",
       "      <td>127.0</td>\n",
       "      <td>144.0</td>\n",
       "      <td>288.0</td>\n",
       "      <td>288.0</td>\n",
       "      <td>1226.0</td>\n",
       "    </tr>\n",
       "    <tr>\n",
       "      <th>75%</th>\n",
       "      <td>351.0</td>\n",
       "      <td>266.0</td>\n",
       "      <td>287.0</td>\n",
       "      <td>288.0</td>\n",
       "      <td>344.0</td>\n",
       "      <td>636.0</td>\n",
       "      <td>609.0</td>\n",
       "      <td>2704.0</td>\n",
       "    </tr>\n",
       "    <tr>\n",
       "      <th>95%</th>\n",
       "      <td>965.0</td>\n",
       "      <td>685.0</td>\n",
       "      <td>720.0</td>\n",
       "      <td>753.0</td>\n",
       "      <td>891.0</td>\n",
       "      <td>1729.0</td>\n",
       "      <td>1560.0</td>\n",
       "      <td>7306.0</td>\n",
       "    </tr>\n",
       "    <tr>\n",
       "      <th>99%</th>\n",
       "      <td>2318.0</td>\n",
       "      <td>1745.0</td>\n",
       "      <td>1965.0</td>\n",
       "      <td>1866.0</td>\n",
       "      <td>2363.0</td>\n",
       "      <td>4384.0</td>\n",
       "      <td>4375.0</td>\n",
       "      <td>18937.0</td>\n",
       "    </tr>\n",
       "    <tr>\n",
       "      <th>max</th>\n",
       "      <td>5410.0</td>\n",
       "      <td>3806.0</td>\n",
       "      <td>4396.0</td>\n",
       "      <td>4264.0</td>\n",
       "      <td>4832.0</td>\n",
       "      <td>8967.0</td>\n",
       "      <td>9370.0</td>\n",
       "      <td>41045.0</td>\n",
       "    </tr>\n",
       "  </tbody>\n",
       "</table>\n",
       "</div>"
      ],
      "text/plain": [
       "          Mon     Tue     Wed     Thu     Fri     Sat     Sun  Total Usage\n",
       "count   638.0   636.0   644.0   643.0   639.0   645.0   639.0        650.0\n",
       "mean    286.0   215.0   232.0   230.0   275.0   523.0   506.0       2236.0\n",
       "std     452.0   327.0   361.0   349.0   419.0   796.0   791.0       3460.0\n",
       "min       1.0     1.0     1.0     1.0     1.0     1.0     1.0          2.0\n",
       "25%      48.0    38.0    38.0    40.0    48.0    97.0    96.0        397.0\n",
       "50%     154.0   118.0   124.0   127.0   144.0   288.0   288.0       1226.0\n",
       "75%     351.0   266.0   287.0   288.0   344.0   636.0   609.0       2704.0\n",
       "95%     965.0   685.0   720.0   753.0   891.0  1729.0  1560.0       7306.0\n",
       "99%    2318.0  1745.0  1965.0  1866.0  2363.0  4384.0  4375.0      18937.0\n",
       "max    5410.0  3806.0  4396.0  4264.0  4832.0  8967.0  9370.0      41045.0"
      ]
     },
     "execution_count": 48,
     "metadata": {},
     "output_type": "execute_result"
    }
   ],
   "source": [
    "ubyloc_c.describe(percentiles=[.25, .5, .75, .95, .99]).round()"
   ]
  },
  {
   "cell_type": "code",
   "execution_count": 59,
   "metadata": {},
   "outputs": [
    {
     "data": {
      "image/png": "[encoded data removed]",
      "text/plain": [
       "<matplotlib.figure.Figure at 0x1bacab6d8>"
      ]
     },
     "metadata": {},
     "output_type": "display_data"
    }
   ],
   "source": [
    "ax = ubyloc_s[['Sun', 'Sat', 'Fri', 'Thu', 'Wed', 'Tue', 'Mon']].plot(kind='box', \\\n",
    "            vert=False, xlim=[-1000, 14000], title='Usage Distribution by location for subscribers')"
   ]
  },
  {
   "cell_type": "markdown",
   "metadata": {},
   "source": [
    "# More location variation in usage on weekends for no-subscribers, where as the opposite is true for subscribers"
   ]
  },
  {
   "cell_type": "code",
   "execution_count": 62,
   "metadata": {},
   "outputs": [
    {
     "data": {
      "text/plain": [
       "<matplotlib.legend.Legend at 0x1685eb7f0>"
      ]
     },
     "execution_count": 62,
     "metadata": {},
     "output_type": "execute_result"
    },
    {
     "data": {
      "image/png": "[encoded data removed]",
      "text/plain": [
       "<matplotlib.figure.Figure at 0x1b9371d68>"
      ]
     },
     "metadata": {},
     "output_type": "display_data"
    }
   ],
   "source": [
    "# Cumulative distribution for non-subscribers\n",
    "ax = ubyloc_c[['Mon', 'Tue', 'Wed', 'Thu', 'Fri', 'Sat', 'Sun']].plot(\\\n",
    "                                    kind='hist', bins=250, xlim=[-200, 3000], histtype='step', \\\n",
    "                                    cumulative=True, normed=True, \\\n",
    "                                    title='Location variation: cumulative distribution of usage for non-subscribers')\n",
    "ax.legend(loc='lower right')"
   ]
  },
  {
   "cell_type": "code",
   "execution_count": 63,
   "metadata": {},
   "outputs": [
    {
     "data": {
      "text/plain": [
       "<matplotlib.legend.Legend at 0x18afe2e80>"
      ]
     },
     "execution_count": 63,
     "metadata": {},
     "output_type": "execute_result"
    },
    {
     "data": {
      "image/png": "[encoded data removed]",
      "text/plain": [
       "<matplotlib.figure.Figure at 0x1645ba0b8>"
      ]
     },
     "metadata": {},
     "output_type": "display_data"
    }
   ],
   "source": [
    "ax = ubyloc_s[['Mon', 'Tue', 'Wed', 'Thu', 'Fri', 'Sat', 'Sun']].plot(\\\n",
    "                                                                 kind='hist', bins=250, xlim=[-1000, 15000], histtype='step', \\\n",
    "                                                                 cumulative=True, normed=True,\\\n",
    "                                                                 title='Location variation: cumulative distribution of usage for subscribers')\n",
    "ax.legend(loc='lower right')"
   ]
  },
  {
   "cell_type": "code",
   "execution_count": null,
   "metadata": {
    "collapsed": true
   },
   "outputs": [],
   "source": []
  }
 ],
 "metadata": {
  "kernelspec": {
   "display_name": "Python 3",
   "language": "python",
   "name": "python3"
  },
  "language_info": {
   "codemirror_mode": {
    "name": "ipython",
    "version": 3
   },
   "file_extension": ".py",
   "mimetype": "text/x-python",
   "name": "python",
   "nbconvert_exporter": "python",
   "pygments_lexer": "ipython3",
   "version": "3.6.1"
  }
 },
 "nbformat": 4,
 "nbformat_minor": 2
}
