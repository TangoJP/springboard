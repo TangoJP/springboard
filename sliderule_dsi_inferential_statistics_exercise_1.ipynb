{
 "cells": [
  {
   "cell_type": "markdown",
   "metadata": {},
   "source": [
    "# What is the True Normal Human Body Temperature? \n",
    "\n",
    "#### Background\n",
    "\n",
    "The mean normal body temperature was held to be 37$^{\\circ}$C or 98.6$^{\\circ}$F for more than 120 years since it was first conceptualized and reported by Carl Wunderlich in a famous 1868 book. But, is this value statistically correct?"
   ]
  },
  {
   "cell_type": "markdown",
   "metadata": {},
   "source": [
    "<div class=\"span5 alert alert-info\">\n",
    "<h3>Exercises</h3>\n",
    "\n",
    "<p>In this exercise, you will analyze a dataset of human body temperatures and employ the concepts of hypothesis testing, confidence intervals, and statistical significance.</p>\n",
    "\n",
    "<p>Answer the following questions <b>in this notebook below and submit to your Github account</b>.</p> \n",
    "\n",
    "<ol>\n",
    "<li>  Is the distribution of body temperatures normal? \n",
    "    <ul>\n",
    "    <li> Although this is not a requirement for CLT to hold (read CLT carefully), it gives us some peace of mind that the population may also be normally distributed if we assume that this sample is representative of the population.\n",
    "    </ul>\n",
    "<li>  Is the sample size large? Are the observations independent?\n",
    "    <ul>\n",
    "    <li> Remember that this is a condition for the CLT, and hence the statistical tests we are using, to apply.\n",
    "    </ul>\n",
    "<li>  Is the true population mean really 98.6 degrees F?\n",
    "    <ul>\n",
    "    <li> Would you use a one-sample or two-sample test? Why?\n",
    "    <li> In this situation, is it appropriate to use the $t$ or $z$ statistic? \n",
    "    <li> Now try using the other test. How is the result be different? Why?\n",
    "    </ul>\n",
    "<li>  At what temperature should we consider someone's temperature to be \"abnormal\"?\n",
    "    <ul>\n",
    "    <li> Start by computing the margin of error and confidence interval.\n",
    "    </ul>\n",
    "<li>  Is there a significant difference between males and females in normal temperature?\n",
    "    <ul>\n",
    "    <li> What test did you use and why?\n",
    "    <li> Write a story with your conclusion in the context of the original problem.\n",
    "    </ul>\n",
    "</ol>\n",
    "\n",
    "You can include written notes in notebook cells using Markdown: \n",
    "   - In the control panel at the top, choose Cell > Cell Type > Markdown\n",
    "   - Markdown syntax: http://nestacms.com/docs/creating-content/markdown-cheat-sheet\n",
    "\n",
    "#### Resources\n",
    "\n",
    "+ Information and data sources: http://www.amstat.org/publications/jse/datasets/normtemp.txt, http://www.amstat.org/publications/jse/jse_data_archive.htm\n",
    "+ Markdown syntax: http://nestacms.com/docs/creating-content/markdown-cheat-sheet\n",
    "\n",
    "****\n",
    "</div>"
   ]
  },
  {
   "cell_type": "code",
   "execution_count": 1,
   "metadata": {
    "collapsed": true
   },
   "outputs": [],
   "source": [
    "import pandas as pd\n",
    "import numpy as np\n",
    "import matplotlib.pyplot as plt\n",
    "import scipy.stats as scs\n",
    "import seaborn as sns\n",
    "from scipy.stats import norm\n",
    "import matplotlib.mlab as mlab\n",
    "import math\n",
    "%matplotlib inline\n",
    "\n",
    "df = pd.read_csv('data/human_body_temperature.csv')"
   ]
  },
  {
   "cell_type": "markdown",
   "metadata": {
    "collapsed": true
   },
   "source": [
    "First, take a quick look at the basic stats on the temperature data"
   ]
  },
  {
   "cell_type": "code",
   "execution_count": 2,
   "metadata": {},
   "outputs": [
    {
     "data": {
      "text/html": [
       "<div>\n",
       "<style>\n",
       "    .dataframe thead tr:only-child th {\n",
       "        text-align: right;\n",
       "    }\n",
       "\n",
       "    .dataframe thead th {\n",
       "        text-align: left;\n",
       "    }\n",
       "\n",
       "    .dataframe tbody tr th {\n",
       "        vertical-align: top;\n",
       "    }\n",
       "</style>\n",
       "<table border=\"1\" class=\"dataframe\">\n",
       "  <thead>\n",
       "    <tr style=\"text-align: right;\">\n",
       "      <th></th>\n",
       "      <th>temperature</th>\n",
       "      <th>heart_rate</th>\n",
       "    </tr>\n",
       "  </thead>\n",
       "  <tbody>\n",
       "    <tr>\n",
       "      <th>count</th>\n",
       "      <td>130.00</td>\n",
       "      <td>130.00</td>\n",
       "    </tr>\n",
       "    <tr>\n",
       "      <th>mean</th>\n",
       "      <td>98.25</td>\n",
       "      <td>73.76</td>\n",
       "    </tr>\n",
       "    <tr>\n",
       "      <th>std</th>\n",
       "      <td>0.73</td>\n",
       "      <td>7.06</td>\n",
       "    </tr>\n",
       "    <tr>\n",
       "      <th>min</th>\n",
       "      <td>96.30</td>\n",
       "      <td>57.00</td>\n",
       "    </tr>\n",
       "    <tr>\n",
       "      <th>25%</th>\n",
       "      <td>97.80</td>\n",
       "      <td>69.00</td>\n",
       "    </tr>\n",
       "    <tr>\n",
       "      <th>50%</th>\n",
       "      <td>98.30</td>\n",
       "      <td>74.00</td>\n",
       "    </tr>\n",
       "    <tr>\n",
       "      <th>75%</th>\n",
       "      <td>98.70</td>\n",
       "      <td>79.00</td>\n",
       "    </tr>\n",
       "    <tr>\n",
       "      <th>max</th>\n",
       "      <td>100.80</td>\n",
       "      <td>89.00</td>\n",
       "    </tr>\n",
       "  </tbody>\n",
       "</table>\n",
       "</div>"
      ],
      "text/plain": [
       "       temperature  heart_rate\n",
       "count       130.00      130.00\n",
       "mean         98.25       73.76\n",
       "std           0.73        7.06\n",
       "min          96.30       57.00\n",
       "25%          97.80       69.00\n",
       "50%          98.30       74.00\n",
       "75%          98.70       79.00\n",
       "max         100.80       89.00"
      ]
     },
     "execution_count": 2,
     "metadata": {},
     "output_type": "execute_result"
    }
   ],
   "source": [
    "# Your work here.\n",
    "df.describe().round(2)"
   ]
  },
  {
   "cell_type": "markdown",
   "metadata": {},
   "source": [
    "Check if the sample distribution is a normal one by fitting the data and plotting the along the fit nornal distribution"
   ]
  },
  {
   "cell_type": "code",
   "execution_count": 3,
   "metadata": {},
   "outputs": [
    {
     "name": "stdout",
     "output_type": "stream",
     "text": [
      "Mean of fit normal distribution: 98.2492\n",
      "Standard deviation of fit normal distribution: 0.7304\n"
     ]
    },
    {
     "data": {
      "text/plain": [
       "<matplotlib.legend.Legend at 0x1055352e8>"
      ]
     },
     "execution_count": 3,
     "metadata": {},
     "output_type": "execute_result"
    },
    {
     "data": {
      "image/png": "[encoded data removed]",
      "text/plain": [
       "<matplotlib.figure.Figure at 0x108a602e8>"
      ]
     },
     "metadata": {},
     "output_type": "display_data"
    }
   ],
   "source": [
    "# Fit the temperature data to a normal distribution, obtain its mean and standard deviation\n",
    "n_mu, n_sigma = scs.norm.fit(df.temperature)\n",
    "print('Mean of fit normal distribution: %.4f' % n_mu)\n",
    "print('Standard deviation of fit normal distribution: %.4f' % n_sigma)\n",
    "\n",
    "# Plot the distribution with fit values\n",
    "x = np.linspace(96, 101, 100)\n",
    "plt.plot(x, norm.pdf(x, loc=n_mu, scale=n_sigma), label='Fit Curve')\n",
    "plt.hist(df.temperature, bins=20, normed=True, label='Data')\n",
    "plt.xlabel('Body Temperature (F)')\n",
    "plt.ylabel('Probability Density')\n",
    "plt.legend()"
   ]
  },
  {
   "cell_type": "markdown",
   "metadata": {},
   "source": [
    "It is difficult to assess just by a visual inspection, so conduct a normality test."
   ]
  },
  {
   "cell_type": "code",
   "execution_count": 4,
   "metadata": {},
   "outputs": [
    {
     "name": "stdout",
     "output_type": "stream",
     "text": [
      "2.70380143332\n",
      "p-value = 0.2587\n"
     ]
    }
   ],
   "source": [
    "# Normality test\n",
    "stats, pvalue = scs.normaltest(df.temperature)\n",
    "print(stats)\n",
    "print('p-value = %.4f' % pvalue)"
   ]
  },
  {
   "cell_type": "markdown",
   "metadata": {},
   "source": [
    "The sample distribution is could be distributed normally considering high p-value of ~0.26. In this situation, I would use one-sample test with t-statistic because: \n",
    "1. We only have one sample to test (temperature) and we want to estimate the population mean. Thus, use one-sample test\n",
    "2. Sample size is relatively large (n > 30) \n",
    "3. Exact population variance is unknown\n",
    "4. t-ststistic is a more conservative than z-statistic"
   ]
  },
  {
   "cell_type": "markdown",
   "metadata": {},
   "source": [
    "Now actually conduct the one-sample t-test to see if 98.6 is a good estimate of the population mean."
   ]
  },
  {
   "cell_type": "code",
   "execution_count": 5,
   "metadata": {},
   "outputs": [
    {
     "name": "stdout",
     "output_type": "stream",
     "text": [
      "t-statistic = -5.4548\n",
      "p-value = 0.0000002411\n"
     ]
    }
   ],
   "source": [
    "# Test if the population mean for body temperature is 98.6F with t-statistic\n",
    "t_statistic, pvalue = scs.ttest_1samp(df.temperature, 98.6)\n",
    "print('t-statistic = %.4f' % t_statistic)\n",
    "print('p-value = %.10f' % pvalue)"
   ]
  },
  {
   "cell_type": "markdown",
   "metadata": {},
   "source": [
    "p-value is very small (~2.0e-7), thus it is quite likely that the real  population mean is <i>not</i> 98.6F.<br>\n",
    "Now try using the Z-statistic assuming normal distribution"
   ]
  },
  {
   "cell_type": "code",
   "execution_count": 6,
   "metadata": {},
   "outputs": [
    {
     "name": "stdout",
     "output_type": "stream",
     "text": [
      "z-statistic = 0.4803\n",
      "p-val = 0.3270\n"
     ]
    }
   ],
   "source": [
    "z = (98.6 - n_mu) /n_sigma \n",
    "pval_z = (1-  scs.norm.cdf(0.5 + z)) * 2\n",
    "print('z-statistic = %.4f' % z)\n",
    "print('p-val = %.4f' % pval_z)"
   ]
  },
  {
   "cell_type": "markdown",
   "metadata": {},
   "source": [
    "Assuming a normally distributed sample distribution, the p-vale is very high and the value 96.8F is <i>not unlikely</i> to be the population mean. The sample distribution is not so well described by the normal distribution, so t-test should be employed as shown above."
   ]
  },
  {
   "cell_type": "markdown",
   "metadata": {},
   "source": [
    "Now calculate margin of error and interval for 95% confidene level  using t-statistic"
   ]
  },
  {
   "cell_type": "code",
   "execution_count": 7,
   "metadata": {},
   "outputs": [
    {
     "name": "stdout",
     "output_type": "stream",
     "text": [
      "--- Basic stats for the temperature data ---\n",
      "Sample Mean 98.2492\n",
      "Sample Standard Deviation 0.7332\n",
      "\n",
      "--- Parameters to obtain 95% Confidence Interval ---\n",
      "t-critical value: 1.9785\n",
      "Margin of Error 0.1272\n",
      "95% Confidence Interval 98.1220F ~ 98.3765F\n"
     ]
    }
   ],
   "source": [
    "# Set confidence level and calculate critical value for t statistic\n",
    "confidence = 0.95\n",
    "t_critical = scs.t.ppf(q = ((1 + confidence)/2), df=(len(df.temperature) - 1))\n",
    "\n",
    "# calculate mean and standard deviation of the temperature data\n",
    "mean = df.temperature.mean()\n",
    "stdev = df.temperature.std()\n",
    "\n",
    "# calculate margin of error\n",
    "sigma = stdev/math.sqrt(len(df.temperature))  # Standard deviation estimate\n",
    "m_of_e = t_critical * sigma\n",
    "\n",
    "# calculate confidence interval\n",
    "CI = (mean - m_of_e, mean + m_of_e) \n",
    "\n",
    "print('--- Basic stats for the temperature data ---')\n",
    "print('Sample Mean %.4f' % mean)\n",
    "print('Sample Standard Deviation %.4f' % stdev)\n",
    "print('\\n--- Parameters to obtain 95% Confidence Interval ---')\n",
    "print(\"t-critical value: %.4f\" % t_critical)\n",
    "print('Margin of Error %.4f' % m_of_e)\n",
    "print('%d%% Confidence Interval %.4fF ~ %.4fF' % (100*confidence, CI[0], CI[1]))"
   ]
  },
  {
   "cell_type": "markdown",
   "metadata": {},
   "source": [
    "Based on the 95% confidence interval, if the body temperature is below 98.1F or above 98.4F, it could be considered abnormal (only 5% probability of having that temperature in a healthy/normal state). This is consistent with the above analysis that 98.6F is unlikely to be the real mean of the population."
   ]
  },
  {
   "cell_type": "markdown",
   "metadata": {},
   "source": [
    "Now compare the temperatures between males and females."
   ]
  },
  {
   "cell_type": "code",
   "execution_count": 8,
   "metadata": {},
   "outputs": [
    {
     "data": {
      "text/html": [
       "<div>\n",
       "<style>\n",
       "    .dataframe thead tr:only-child th {\n",
       "        text-align: right;\n",
       "    }\n",
       "\n",
       "    .dataframe thead th {\n",
       "        text-align: left;\n",
       "    }\n",
       "\n",
       "    .dataframe tbody tr th {\n",
       "        vertical-align: top;\n",
       "    }\n",
       "</style>\n",
       "<table border=\"1\" class=\"dataframe\">\n",
       "  <thead>\n",
       "    <tr>\n",
       "      <th></th>\n",
       "      <th colspan=\"8\" halign=\"left\">heart_rate</th>\n",
       "      <th colspan=\"8\" halign=\"left\">temperature</th>\n",
       "    </tr>\n",
       "    <tr>\n",
       "      <th></th>\n",
       "      <th>count</th>\n",
       "      <th>mean</th>\n",
       "      <th>std</th>\n",
       "      <th>min</th>\n",
       "      <th>25%</th>\n",
       "      <th>50%</th>\n",
       "      <th>75%</th>\n",
       "      <th>max</th>\n",
       "      <th>count</th>\n",
       "      <th>mean</th>\n",
       "      <th>std</th>\n",
       "      <th>min</th>\n",
       "      <th>25%</th>\n",
       "      <th>50%</th>\n",
       "      <th>75%</th>\n",
       "      <th>max</th>\n",
       "    </tr>\n",
       "    <tr>\n",
       "      <th>gender</th>\n",
       "      <th></th>\n",
       "      <th></th>\n",
       "      <th></th>\n",
       "      <th></th>\n",
       "      <th></th>\n",
       "      <th></th>\n",
       "      <th></th>\n",
       "      <th></th>\n",
       "      <th></th>\n",
       "      <th></th>\n",
       "      <th></th>\n",
       "      <th></th>\n",
       "      <th></th>\n",
       "      <th></th>\n",
       "      <th></th>\n",
       "      <th></th>\n",
       "    </tr>\n",
       "  </thead>\n",
       "  <tbody>\n",
       "    <tr>\n",
       "      <th>F</th>\n",
       "      <td>65.0</td>\n",
       "      <td>74.153846</td>\n",
       "      <td>8.105227</td>\n",
       "      <td>57.0</td>\n",
       "      <td>68.0</td>\n",
       "      <td>76.0</td>\n",
       "      <td>80.0</td>\n",
       "      <td>89.0</td>\n",
       "      <td>65.0</td>\n",
       "      <td>98.393846</td>\n",
       "      <td>0.743488</td>\n",
       "      <td>96.4</td>\n",
       "      <td>98.0</td>\n",
       "      <td>98.4</td>\n",
       "      <td>98.8</td>\n",
       "      <td>100.8</td>\n",
       "    </tr>\n",
       "    <tr>\n",
       "      <th>M</th>\n",
       "      <td>65.0</td>\n",
       "      <td>73.369231</td>\n",
       "      <td>5.875184</td>\n",
       "      <td>58.0</td>\n",
       "      <td>70.0</td>\n",
       "      <td>73.0</td>\n",
       "      <td>78.0</td>\n",
       "      <td>86.0</td>\n",
       "      <td>65.0</td>\n",
       "      <td>98.104615</td>\n",
       "      <td>0.698756</td>\n",
       "      <td>96.3</td>\n",
       "      <td>97.6</td>\n",
       "      <td>98.1</td>\n",
       "      <td>98.6</td>\n",
       "      <td>99.5</td>\n",
       "    </tr>\n",
       "  </tbody>\n",
       "</table>\n",
       "</div>"
      ],
      "text/plain": [
       "       heart_rate                                                     \\\n",
       "            count       mean       std   min   25%   50%   75%   max   \n",
       "gender                                                                 \n",
       "F            65.0  74.153846  8.105227  57.0  68.0  76.0  80.0  89.0   \n",
       "M            65.0  73.369231  5.875184  58.0  70.0  73.0  78.0  86.0   \n",
       "\n",
       "       temperature                                                      \n",
       "             count       mean       std   min   25%   50%   75%    max  \n",
       "gender                                                                  \n",
       "F             65.0  98.393846  0.743488  96.4  98.0  98.4  98.8  100.8  \n",
       "M             65.0  98.104615  0.698756  96.3  97.6  98.1  98.6   99.5  "
      ]
     },
     "execution_count": 8,
     "metadata": {},
     "output_type": "execute_result"
    }
   ],
   "source": [
    "# Check for gender difference\n",
    "df.groupby('gender').describe()"
   ]
  },
  {
   "cell_type": "code",
   "execution_count": 9,
   "metadata": {
    "collapsed": true
   },
   "outputs": [],
   "source": [
    "# Slice the dataset into two\n",
    "temp_male = df[df.gender == 'M'].temperature\n",
    "temp_female = df[df.gender == 'F'].temperature"
   ]
  },
  {
   "cell_type": "markdown",
   "metadata": {},
   "source": [
    "Conduct the t-test assuming that male and femal temperature samples are independent from each other.\n",
    "Now check if the two samples are normally distributed."
   ]
  },
  {
   "cell_type": "code",
   "execution_count": 10,
   "metadata": {},
   "outputs": [
    {
     "name": "stdout",
     "output_type": "stream",
     "text": [
      "p-value for male: 0.6404\n",
      "p-value for female: 0.0937\n"
     ]
    }
   ],
   "source": [
    "stat_m, pval_m = scs.normaltest(temp_male)\n",
    "stat_f, pval_f = scs.normaltest(temp_female)\n",
    "print('p-value for male: %.4f' % pval_m)\n",
    "print('p-value for female: %.4f' % pval_f)"
   ]
  },
  {
   "cell_type": "markdown",
   "metadata": {},
   "source": [
    "Based on the p-values, there is a 10% chance that the female samples are not drawn from normally distributed population. Thus, as the above analysis, use t-test to compare the means of male and female body temperatures."
   ]
  },
  {
   "cell_type": "code",
   "execution_count": 11,
   "metadata": {},
   "outputs": [
    {
     "name": "stdout",
     "output_type": "stream",
     "text": [
      "Male Stats : Mean = 98.105F, Standard Deviation = 0.699\n",
      "Female Stats : Mean = 98.394F, Standard Deviation = 0.743\n",
      "\n",
      "\n",
      "t-test result: p-value = 0.0239\n"
     ]
    }
   ],
   "source": [
    "# calcuate means and standard deviations for each dataset\n",
    "male_mean = temp_male.mean()\n",
    "male_stdev = temp_male.std()\n",
    "female_mean = temp_female.mean()\n",
    "female_stdev = temp_female.std()\n",
    "\n",
    "# conduct t-test to see if the means are significantly different than expected by chance\n",
    "t_statistic2, pvalue2 = scs.ttest_ind(temp_male, temp_female)\n",
    "\n",
    "# print outputs\n",
    "print('Male Stats : Mean = %.3fF, Standard Deviation = %.3f' % (male_mean, male_stdev))\n",
    "print('Female Stats : Mean = %.3fF, Standard Deviation = %.3f' % (female_mean, female_stdev))\n",
    "print('\\n')\n",
    "print('t-test result: p-value = %.4f' % pvalue2)"
   ]
  },
  {
   "cell_type": "markdown",
   "metadata": {},
   "source": [
    "Low p-value of 0.02 indicates that the difference in mean between the males and the females are statistically significant (there's ~2% chance that they're difference by chance)."
   ]
  },
  {
   "cell_type": "markdown",
   "metadata": {},
   "source": [
    "Now calculate the 95% confidence interval for female mean to see if 98.6F falls within in the interval. I picked female population for this test because their mean is higher than that of males."
   ]
  },
  {
   "cell_type": "code",
   "execution_count": 12,
   "metadata": {},
   "outputs": [
    {
     "name": "stdout",
     "output_type": "stream",
     "text": [
      "--- Parameters to obtain 95% Confidence Interval for mean of female body temperature ---\n",
      "t-critical value: 1.9785\n",
      "Margin of Error 0.1272\n",
      "95% Confidence Interval 98.2114F ~ 98.5763F\n"
     ]
    }
   ],
   "source": [
    "# calculate margin of error for female temperature\n",
    "sigma_f = female_stdev/math.sqrt(len(temp_female))  # Standard deviation estimate\n",
    "m_of_e_f = t_critical * sigma_f\n",
    "\n",
    "# calculate confidence interval\n",
    "CI = (female_mean - m_of_e_f, female_mean + m_of_e_f) \n",
    "\n",
    "print('--- Parameters to obtain 95% Confidence Interval for mean of female body temperature ---')\n",
    "print(\"t-critical value: %.4f\" % t_critical)\n",
    "print('Margin of Error %.4f' % m_of_e)\n",
    "print('%d%% Confidence Interval %.4fF ~ %.4fF' % (100*confidence, CI[0], CI[1]))"
   ]
  },
  {
   "cell_type": "markdown",
   "metadata": {},
   "source": [
    "Based on my analysis of the sample population, mean body temperature of 98.6F suggested by Wunderlich is statistically incorrect. The actual mean lies between 98.1F ~ 98.4F at 95% confidence level. Even for the females, who have the higher average body temeprature than the males, 98.6F is slightly above the normal range at 95% confidence level (98.2F1 ~ 98.58F). But there is a slight chance (~2.5%) that Wunderlich obtained the 98.6F value by chance if he had sampled only the female population! In any case, the real average body temeprature of the human population is quite likely below 98.6F based on this sample of 130 people."
   ]
  },
  {
   "cell_type": "code",
   "execution_count": null,
   "metadata": {
    "collapsed": true
   },
   "outputs": [],
   "source": []
  }
 ],
 "metadata": {
  "kernelspec": {
   "display_name": "Python 3",
   "language": "python",
   "name": "python3"
  },
  "language_info": {
   "codemirror_mode": {
    "name": "ipython",
    "version": 3
   },
   "file_extension": ".py",
   "mimetype": "text/x-python",
   "name": "python",
   "nbconvert_exporter": "python",
   "pygments_lexer": "ipython3",
   "version": "3.6.1"
  }
 },
 "nbformat": 4,
 "nbformat_minor": 1
}
